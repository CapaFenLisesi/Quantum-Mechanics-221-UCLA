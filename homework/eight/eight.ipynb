{
 "metadata": {
  "name": "",
  "signature": "sha256:97644008562f077ab6ba7632ce0a2a6cd97b69e58b664e707d31607a803ed7c8"
 },
 "nbformat": 3,
 "nbformat_minor": 0,
 "worksheets": [
  {
   "cells": [
    {
     "cell_type": "markdown",
     "metadata": {},
     "source": [
      "# QuantumMechanics Problem set 8\n",
      "\n",
      "This is for the class PHYS221 taught by Yaroslav Tserkovnyak\n",
      "\n",
      "Problems are from the textbook Sakurai and Napolitano, Modern Quantum Mechanics, 2nd edition\n",
      "\n",
      "The assigned problems are: 3.5, 3.6, 3.13, 3.26 [for part (c), see definition in Eq (3.5.5)], and 3.33\n",
      "\n",
      "This homework is hosted at:\n",
      "https://github.com/cowlicks/Quantum-Mechanics-221A-UCLA/blob/master/homework/eight/eight.ipynb\n",
      "\n",
      "A rendered version of the ipython notebook can be viewed here:\n",
      "\n",
      "http://nbviewer.ipython.org/github/cowlicks/Quantum-Mechanics-221A-UCLA/blob/master/homework/eight/eight.ipynb?flush_cache=true"
     ]
    },
    {
     "cell_type": "markdown",
     "metadata": {},
     "source": [
      "## 3.5"
     ]
    },
    {
     "cell_type": "code",
     "collapsed": false,
     "input": [
      "from sympy import init_printing\n",
      "init_printing() # setup pretty LaTeX printing"
     ],
     "language": "python",
     "metadata": {},
     "outputs": [],
     "prompt_number": 1
    },
    {
     "cell_type": "code",
     "collapsed": false,
     "input": [
      "from sympy.physics.quantum.spin import (JzKet, # angular momentum ket obj in z basis\n",
      "                                        Jz, Jx) # angular momentum operators\n",
      "from sympy.physics.quantum import (hbar, # hbar constant\n",
      "                                   represent, # represnt operators in matrix form\n",
      "                                   IdentityOperator) # Identity operator"
     ],
     "language": "python",
     "metadata": {},
     "outputs": [],
     "prompt_number": 2
    },
    {
     "cell_type": "code",
     "collapsed": false,
     "input": [
      "#Represent converts operators to their matrices for the given j basis for example:\n",
      "represent(Jx*Jx, j=1)"
     ],
     "language": "python",
     "metadata": {},
     "outputs": [
      {
       "latex": [
        "$$\\left[\\begin{matrix}\\frac{\\hbar^{2}}{2} & 0 & \\frac{\\hbar^{2}}{2}\\\\0 & \\hbar^{2} & 0\\\\\\frac{\\hbar^{2}}{2} & 0 & \\frac{\\hbar^{2}}{2}\\end{matrix}\\right]$$"
       ],
       "metadata": {},
       "output_type": "pyout",
       "prompt_number": 3,
       "text": [
        "\u23a1 2       2\u23a4\n",
        "\u23a2\u210f       \u210f \u23a5\n",
        "\u23a2\u2500\u2500  0   \u2500\u2500\u23a5\n",
        "\u23a22       2 \u23a5\n",
        "\u23a2          \u23a5\n",
        "\u23a2     2    \u23a5\n",
        "\u23a20   \u210f   0 \u23a5\n",
        "\u23a2          \u23a5\n",
        "\u23a2 2       2\u23a5\n",
        "\u23a2\u210f       \u210f \u23a5\n",
        "\u23a2\u2500\u2500  0   \u2500\u2500\u23a5\n",
        "\u23a32       2 \u23a6"
       ]
      }
     ],
     "prompt_number": 3
    },
    {
     "cell_type": "markdown",
     "metadata": {},
     "source": [
      "We note that\n",
      "$$ J_z(J_z + \\hbar)(J_z - \\hbar) = J_z(J^2_z - \\hbar^2)$$ and $$ J_x(J_x + \\hbar)(J_x - \\hbar) = J_x(J^2_x - \\hbar^2)$$\n",
      "So we represent these as matrices using the `represent` command with `j=1`."
     ]
    },
    {
     "cell_type": "code",
     "collapsed": false,
     "input": [
      "represent(Jz*(Jz*Jz - hbar**2 * IdentityOperator(3)), j=1)"
     ],
     "language": "python",
     "metadata": {},
     "outputs": [
      {
       "latex": [
        "$$\\left[\\begin{matrix}0 & 0 & 0\\\\0 & 0 & 0\\\\0 & 0 & 0\\end{matrix}\\right]$$"
       ],
       "metadata": {},
       "output_type": "pyout",
       "prompt_number": 4,
       "text": [
        "\u23a10  0  0\u23a4\n",
        "\u23a2       \u23a5\n",
        "\u23a20  0  0\u23a5\n",
        "\u23a2       \u23a5\n",
        "\u23a30  0  0\u23a6"
       ]
      }
     ],
     "prompt_number": 4
    },
    {
     "cell_type": "code",
     "collapsed": false,
     "input": [
      "represent(Jx*(Jx*Jx - hbar**2 * IdentityOperator(3)), j=1)"
     ],
     "language": "python",
     "metadata": {},
     "outputs": [
      {
       "latex": [
        "$$\\left[\\begin{matrix}0 & 0 & 0\\\\0 & 0 & 0\\\\0 & 0 & 0\\end{matrix}\\right]$$"
       ],
       "metadata": {},
       "output_type": "pyout",
       "prompt_number": 5,
       "text": [
        "\u23a10  0  0\u23a4\n",
        "\u23a2       \u23a5\n",
        "\u23a20  0  0\u23a5\n",
        "\u23a2       \u23a5\n",
        "\u23a30  0  0\u23a6"
       ]
      }
     ],
     "prompt_number": 5
    },
    {
     "cell_type": "markdown",
     "metadata": {},
     "source": [
      "## 3.6 done on attached paper"
     ]
    },
    {
     "cell_type": "markdown",
     "metadata": {},
     "source": [
      "## 3.13\n",
      "\n",
      "Recall a rotation of a infitesmal angla $d\\phi$ about a vector $\\mathbf{\\hat{n}}$ is expressed (3.1.15):\n",
      "$$\n",
      "D(\\mathbf{\\hat{n}}, d \\phi) = 1 - i\\left(\\frac{ \\mathbf{J} \\cdot \\mathbf{\\hat{n}} }{ \\hbar }\\right) d\\phi\n",
      "$$\n",
      "We compound these to get a finite rotation, so in this case about the $y$ axis for the angle $\\epsilon$ (Sakurai 3.1.16):\n",
      "$$\n",
      "D_y(\\epsilon) = \\lim_{N \\to \\infty} \\left[ 1 - i \\left(\\frac{J_y \\epsilon}{\\hbar N}\\right) \\right]^N = 1 - \\frac{i J_y \\epsilon}{\\hbar} - \\frac{J^2_y \\epsilon^2}{2 \\hbar} + ...\n",
      "$$\n",
      "We only want up to order $\\epsilon$ for this problem so finding the probability:"
     ]
    },
    {
     "cell_type": "code",
     "collapsed": false,
     "input": [
      "# We need a 'symbols' to represent m, j, and epsilon since they are not certain quantities in our calculations\n",
      "from sympy import symbols\n",
      "m, j, eps = symbols('m j \\epsilon') # eps is the rotation angle epsilon. It pretty prints in LaTeX (cool huh?)\n",
      "\n",
      "from sympy.physics.quantum.spin import (JzBra, JzKet, # Angular momentum bra and ket objects in z basis.\n",
      "                                        Jy) # Jy operator\n",
      "\n",
      "from sympy.physics.quantum import qapply # This functions evaluates quantum expressions.\n",
      "\n",
      "# Make our bra and ket. The arguments to JzBra/Ket are the j and m values respectively. Since we are at m max, m = j.\n",
      "m = j\n",
      "bra, ket = JzBra(j, m), JzKet(j, m)\n",
      "\n",
      "# Make our rotation operator\n",
      "D_y = IdentityOperator(j) - (1j * Jy * eps / hbar) - (Jy**2 * eps**2)/(2 * hbar**2)\n",
      "\n",
      "# So we have\n",
      "bra*D_y*ket\n"
     ],
     "language": "python",
     "metadata": {},
     "outputs": [
      {
       "latex": [
        "$${\\left\\langle j,j\\right|} \\left(- \\frac{\\epsilon^{2} \\left(J_y\\right)^{2}}{2 \\hbar^{2}} - \\frac{1.0 i}{\\hbar} \\epsilon J_y + {\\mathcal{I}}\\right) {\\left|j,j\\right\\rangle }$$"
       ],
       "metadata": {},
       "output_type": "pyout",
       "prompt_number": 6,
       "text": [
        "      \u239b          2     2                        \u239e      \n",
        "      \u239c  \\epsilon \u22c5\u239bJ \u239e    1.0\u22c5\u2148\u22c5\\epsilon\u22c5J     \u239f      \n",
        "      \u239c            \u239d y\u23a0                    y    \u239f      \n",
        "\u27e8j,j\u2758\u22c5\u239c- \u2500\u2500\u2500\u2500\u2500\u2500\u2500\u2500\u2500\u2500\u2500\u2500\u2500\u2500\u2500 - \u2500\u2500\u2500\u2500\u2500\u2500\u2500\u2500\u2500\u2500\u2500\u2500\u2500\u2500\u2500\u2500\u2500 + I\u239f\u22c5\u2758j,j\u27e9\n",
        "      \u239c           2                \u210f            \u239f      \n",
        "      \u239d        2\u22c5\u210f                              \u23a0      "
       ]
      }
     ],
     "prompt_number": 6
    },
    {
     "cell_type": "code",
     "collapsed": false,
     "input": [
      "val = qapply(bra * D_y * ket).doit() # `qapply` applies operators, `doit` applies innerproducts\n",
      "val"
     ],
     "language": "python",
     "metadata": {},
     "outputs": [
      {
       "latex": [
        "$$- \\frac{\\epsilon^{2} j}{4} + 1$$"
       ],
       "metadata": {},
       "output_type": "pyout",
       "prompt_number": 7,
       "text": [
        "          2      \n",
        "  \\epsilon \u22c5j    \n",
        "- \u2500\u2500\u2500\u2500\u2500\u2500\u2500\u2500\u2500\u2500\u2500 + 1\n",
        "       4         "
       ]
      }
     ],
     "prompt_number": 7
    },
    {
     "cell_type": "code",
     "collapsed": false,
     "input": [
      "# But we want the square of this\n",
      "(val**2).expand()"
     ],
     "language": "python",
     "metadata": {},
     "outputs": [
      {
       "latex": [
        "$$\\frac{\\epsilon^{4} j^{2}}{16} - \\frac{\\epsilon^{2} j}{2} + 1$$"
       ],
       "metadata": {},
       "output_type": "pyout",
       "prompt_number": 8,
       "text": [
        "        4  2           2      \n",
        "\\epsilon \u22c5j    \\epsilon \u22c5j    \n",
        "\u2500\u2500\u2500\u2500\u2500\u2500\u2500\u2500\u2500\u2500\u2500\u2500 - \u2500\u2500\u2500\u2500\u2500\u2500\u2500\u2500\u2500\u2500\u2500 + 1\n",
        "     16             2         "
       ]
      }
     ],
     "prompt_number": 8
    },
    {
     "cell_type": "markdown",
     "metadata": {},
     "source": [
      "So up to order $\\epsilon^2 $ we have:\n",
      "$$\n",
      "\\left| \\left\\langle j, j \\right| D_y(\\epsilon) \\left|j, j\\right\\rangle \\right|^2 = 1 - \\frac{\\epsilon^2 j}{2}\n",
      "$$\n",
      "    "
     ]
    },
    {
     "cell_type": "markdown",
     "metadata": {},
     "source": [
      "## 3.26 (a)\n",
      "\n",
      "Recall: \n",
      "$$\n",
      "J_\\pm = J_x \\pm iJ_y\n",
      "$$\n",
      "so\n",
      "$$\n",
      "J_y = \\frac{1}{i2}(J_+ - J_-)\n",
      "$$\n",
      "and also recall:\n",
      "$$\n",
      "\\left\\langle j', m' \\right| J_\\pm \\left|j, m\\right\\rangle = \\sqrt{(j \\mp m)(j \\pm m + 1)} \\hbar \\delta_{j', j} \\delta_{m', m\\pm1}\n",
      "$$\n",
      "So the matrix elements are:\n",
      "$$\n",
      "\\left\\langle j', m' \\right| J_y \\left|j, m\\right\\rangle = \\left\\langle j', m' \\right| \\frac{1}{i2}(J_+ + J_-) \\left|j, m\\right\\rangle = \\frac{1}{i2}( \\sqrt{(j - m)(j + m + 1)} \\hbar \\delta_{j', j} \\delta_{m', m+1} \\sqrt{(j + m)(j - m + 1)} \\hbar \\delta_{j', j} \\delta_{m', m-1})\n",
      "$$\n",
      "This gives the matrix:\n",
      "$$\n",
      "\\left( \\begin{array}{ccc}\n",
      "0 & -\\frac{i\\hbar\\sqrt{2}}{2} & 0 \\\\\n",
      "\\frac{i\\hbar\\sqrt{2}}{2} & 0 & -\\frac{i\\hbar\\sqrt{2}}{2} \\\\\n",
      "0 & \\frac{i\\hbar\\sqrt{2}}{2} & 0 \\end{array} \\right)\n",
      "$$\n",
      "Which we can easily check with sympy:"
     ]
    },
    {
     "cell_type": "code",
     "collapsed": false,
     "input": [
      "represent(Jy**2, j=1)"
     ],
     "language": "python",
     "metadata": {},
     "outputs": [
      {
       "latex": [
        "$$\\left[\\begin{matrix}\\frac{\\hbar^{2}}{2} & 0 & - \\frac{\\hbar^{2}}{2}\\\\0 & \\hbar^{2} & 0\\\\- \\frac{\\hbar^{2}}{2} & 0 & \\frac{\\hbar^{2}}{2}\\end{matrix}\\right]$$"
       ],
       "metadata": {},
       "output_type": "pyout",
       "prompt_number": 9,
       "text": [
        "\u23a1  2         2 \u23a4\n",
        "\u23a2 \u210f        -\u210f  \u23a5\n",
        "\u23a2 \u2500\u2500   0   \u2500\u2500\u2500\u2500\u23a5\n",
        "\u23a2 2         2  \u23a5\n",
        "\u23a2              \u23a5\n",
        "\u23a2       2      \u23a5\n",
        "\u23a2 0    \u210f    0  \u23a5\n",
        "\u23a2              \u23a5\n",
        "\u23a2  2         2 \u23a5\n",
        "\u23a2-\u210f         \u210f  \u23a5\n",
        "\u23a2\u2500\u2500\u2500\u2500  0    \u2500\u2500 \u23a5\n",
        "\u23a3 2         2  \u23a6"
       ]
      }
     ],
     "prompt_number": 9
    },
    {
     "cell_type": "markdown",
     "metadata": {},
     "source": [
      "### 3.26 (b)\n",
      "\n",
      "Now Taylor expanding the function in question:\n",
      "$$\n",
      "e^{-i J_y \\beta / \\hbar} = 1 - \\left(\\frac{i \\beta J_y}{\\hbar}\\right) - \\left(\\frac{i \\beta}{\\hbar}\\right)^2 \\frac{J_y^2}{2!} + \\left(\\frac{i \\beta}{\\hbar}\\right)^3 \\frac{J_y^3}{3!} - ... = \\left(\\frac{-i \\beta}{\\hbar}\\right)^k \\frac{J_y^k}{k!}\n",
      "$$"
     ]
    },
    {
     "cell_type": "markdown",
     "metadata": {},
     "source": [
      "Now, using part a notice that $J_y / \\hbar$ to odd powers is:\n",
      "$$\n",
      "\\frac{J_y}{\\hbar}\n",
      "=\n",
      "\\left( \\begin{array}{ccc}\n",
      "0 & -\\frac{i\\hbar\\sqrt{2}}{2} & 0 \\\\\n",
      "\\frac{i\\hbar\\sqrt{2}}{2} & 0 & -\\frac{i\\hbar\\sqrt{2}}{2} \\\\\n",
      "0 & \\frac{i\\hbar\\sqrt{2}}{2} & 0 \\end{array} \\right)  \n",
      "=\n",
      "\\left( \\begin{array}{ccc}\n",
      "0 & -\\frac{i\\hbar\\sqrt{2}}{2} & 0 \\\\\n",
      "\\frac{i\\hbar\\sqrt{2}}{2} & 0 & -\\frac{i\\hbar\\sqrt{2}}{2} \\\\\n",
      "0 & \\frac{i\\hbar\\sqrt{2}}{2} & 0 \\end{array} \\right)^{(2k + 1)}\n",
      "=\n",
      "\\left(\\frac{J_y}{\\hbar}\\right)^{2k-1}\n",
      "$$\n",
      "and to even powers $J_y / \\hbar$ is:\n",
      "$$\n",
      "\\left(\\frac{J_y}{\\hbar}\\right)^2\n",
      "=\n",
      "\\left( \\begin{array}{ccc}\n",
      "\\frac{\\hbar^2}{2} & 0 & -\\frac{\\hbar^2}{2} \\\\\n",
      "0 & \\hbar^2 & 0 \\\\\n",
      "-\\frac{\\hbar^2}{2} & 0 & \\frac{i\\hbar\\sqrt{2}}{2} \\end{array} \\right)\n",
      "=\n",
      "\\left( \\begin{array}{ccc}\n",
      "\\frac{\\hbar^2}{2} & 0 & -\\frac{\\hbar^2}{2} \\\\\n",
      "0 & \\hbar^2 & 0 \\\\\n",
      "-\\frac{\\hbar^2}{2} & 0 & \\frac{i\\hbar\\sqrt{2}}{2} \\end{array} \\right)^{2k}\n",
      "=\n",
      "\\left(\\frac{J_y}{\\hbar}\\right)^{2k}\n",
      "$$"
     ]
    },
    {
     "cell_type": "markdown",
     "metadata": {},
     "source": [
      "So $J_y = J_y^{2n + 1}$ and $J_y^2 = J_y^{2n}$ so we can break up the Taylor expansion into even and odd terms and apply these identities:"
     ]
    },
    {
     "cell_type": "markdown",
     "metadata": {},
     "source": [
      "(using Einstein notation for the index k)\n",
      "$$\n",
      "e^{-i J_y \\beta / \\hbar}\n",
      "=\n",
      "  1 + (-1)^{k}\\left(\\frac{\\beta^{2k}}{(2k)!}\\right) \\left(\\frac{J_y}{\\hbar}\\right)^{2k}\n",
      " + i (-1)^k \\left(\\frac{\\beta^{2k-1}}{(2k-1)!}\\right) \\left(\\frac{J_y}{\\hbar}\\right)^{2k-1}\n",
      "=\n",
      "  1 + (-1)^{k}\\left(\\frac{\\beta^{2k}}{(2k)!}\\right) \\left(\\frac{J_y}{\\hbar}\\right)^{2}\n",
      " + i (-1)^k \\left(\\frac{\\beta^{2k-1}}{(2k-1)!}\\right) \\left(\\frac{J_y}{\\hbar}\\right)\n",
      "$$"
     ]
    },
    {
     "cell_type": "markdown",
     "metadata": {},
     "source": [
      "But recall $\\cos(\\beta) = \\left(\\frac{\\beta^{2n}}{(2n)!}\\right)$ and $\\sin(\\beta) = \\left(\\frac{\\beta^{2n - 1}}{(2n - 1)!}\\right)$ so we have:"
     ]
    },
    {
     "cell_type": "markdown",
     "metadata": {},
     "source": [
      "$$\n",
      "e^{-i J_y \\beta / \\hbar} = 1 + (\\cos \\beta - 1)\\left(\\frac{J_y}{\\hbar}\\right)^2 - i \\sin \\beta \\left(\\frac{J_y}{\\hbar}\\right)\n",
      "$$"
     ]
    },
    {
     "cell_type": "markdown",
     "metadata": {},
     "source": [
      "## 3.26 (c)\n",
      "\n",
      "So we have:"
     ]
    },
    {
     "cell_type": "markdown",
     "metadata": {},
     "source": [
      "$$\n",
      "d^{1}_{m'm} (\\beta) = \\left\\langle 1, m' \\right| \\exp \\left( \\frac{-i J_y \\beta}{\\hbar} \\right) \\left|1, m\\right\\rangle\n",
      "=\n",
      "\\left\\langle 1, m' \\right|\n",
      "1 + (\\cos \\beta - 1)\\left(\\frac{J_y}{\\hbar}\\right)^2 - i \\sin \\beta \\left(\\frac{J_y}{\\hbar}\\right)\n",
      "\\left|1, m\\right\\rangle\n",
      "$$\n",
      "We compute this with sympy, it so cool:"
     ]
    },
    {
     "cell_type": "code",
     "collapsed": false,
     "input": [
      "from sympy import cos, sin\n",
      "b = symbols('beta') # rotation angle symbol\n",
      "I = IdentityOperator(3) # 3D IdentityOperator alias for convenience\n",
      "\n",
      "op = I + (cos(b) - 1) * (Jy/hbar)**2 - 1j * sin(b)*(Jy/hbar) # The operator in question\n",
      "represent(op, j=1)"
     ],
     "language": "python",
     "metadata": {},
     "outputs": [
      {
       "latex": [
        "$$\\left[\\begin{matrix}\\frac{1}{2} \\cos{\\left (\\beta \\right )} + \\frac{1}{2} & - 0.5 \\sqrt{2} \\sin{\\left (\\beta \\right )} & - \\frac{1}{2} \\cos{\\left (\\beta \\right )} + \\frac{1}{2}\\\\0.5 \\sqrt{2} \\sin{\\left (\\beta \\right )} & \\cos{\\left (\\beta \\right )} & - 0.5 \\sqrt{2} \\sin{\\left (\\beta \\right )}\\\\- \\frac{1}{2} \\cos{\\left (\\beta \\right )} + \\frac{1}{2} & 0.5 \\sqrt{2} \\sin{\\left (\\beta \\right )} & \\frac{1}{2} \\cos{\\left (\\beta \\right )} + \\frac{1}{2}\\end{matrix}\\right]$$"
       ],
       "metadata": {},
       "output_type": "pyout",
       "prompt_number": 10,
       "text": [
        "\u23a1   cos(\u03b2)   1            ___             cos(\u03b2)   1   \u23a4\n",
        "\u23a2   \u2500\u2500\u2500\u2500\u2500\u2500 + \u2500     -0.5\u22c5\u2572\u2571 2 \u22c5sin(\u03b2)    - \u2500\u2500\u2500\u2500\u2500\u2500 + \u2500   \u23a5\n",
        "\u23a2     2      2                              2      2   \u23a5\n",
        "\u23a2                                                      \u23a5\n",
        "\u23a2      ___                                   ___       \u23a5\n",
        "\u23a20.5\u22c5\u2572\u2571 2 \u22c5sin(\u03b2)       cos(\u03b2)        -0.5\u22c5\u2572\u2571 2 \u22c5sin(\u03b2)\u23a5\n",
        "\u23a2                                                      \u23a5\n",
        "\u23a2    cos(\u03b2)   1          ___             cos(\u03b2)   1    \u23a5\n",
        "\u23a2  - \u2500\u2500\u2500\u2500\u2500\u2500 + \u2500    0.5\u22c5\u2572\u2571 2 \u22c5sin(\u03b2)      \u2500\u2500\u2500\u2500\u2500\u2500 + \u2500    \u23a5\n",
        "\u23a3      2      2                            2      2    \u23a6"
       ]
      }
     ],
     "prompt_number": 10
    },
    {
     "cell_type": "markdown",
     "metadata": {},
     "source": [
      "## 3.33\n",
      "\n",
      "We are given\n",
      "$$\n",
      "H_{int} = \\alpha \\left[ \\phi_{x^2} S^2_x +\\phi_{y^2} S^2_y + \\phi_{z^2} S^2_z \\right]\n",
      "$$\n",
      "Where $\\alpha$ is that constant from the book."
     ]
    },
    {
     "cell_type": "markdown",
     "metadata": {},
     "source": [
      "Recall a few things:\n",
      "$$\n",
      "S_{\\pm} = S_x \\pm i S_y\n",
      "$$\n",
      "Which implies\n",
      "$$\n",
      "S^2_x = \\frac{1}{4}(S^2_+ + S^2_- + \\{S_+, S_-\\}), \\quad S^2_y = \\frac{-1}{4}(S^2_+ + S^2_- - \\{S_+, S_-\\})\n",
      "$$"
     ]
    },
    {
     "cell_type": "markdown",
     "metadata": {},
     "source": [
      "Plugging this into the hamiltonian:\n",
      "\\begin{align*}\n",
      "H_{int} &= \\alpha \\left[ \\frac{\\phi_{x^2}}{4}(S^2_+ + S^2_- + \\{S_+, S_-\\}) - \\frac{\\phi_{y^2} }{4}(S^2_+ + S^2_- - \\{S_+, S_-\\}) + \\phi_{z^2} S^2_z \\right] \\\\\n",
      "&= \\frac{\\alpha}{4} \\left[ (S^2_+ + S^2_-)(\\phi_{x^2} - \\phi_{y^2}) + \\{S_+, S_-\\}(\\phi_{x^2} + \\phi_{y^2}) + 4\\phi_{z^2} S^2_z \\right]\n",
      "\\end{align*}\n",
      "Since $\\phi$ satisfies Laplace's equation $\\nabla^2 \\phi = 0$ so we have $\\phi_{x^2} + \\phi_{y^2} = - \\phi_{z^2}$. Also recall $\\{S_+, S_-\\} = 2 \\mathbf{S}^2 - 2 S^2_z$. Plugging these into the Hamiltonian we get"
     ]
    },
    {
     "cell_type": "markdown",
     "metadata": {},
     "source": [
      "\\begin{align*}\n",
      "H_{int} &=  \\frac{\\alpha}{4}\\left[ (S^2_+ + S^2_-)(\\phi_{x^2} - \\phi_{y^2}) + (2 S^2_z - 2 \\mathbf{S}^2)\\phi_{z^2} + 4\\phi_{z^2} S^2_z \\right] \\\\\n",
      "    &= \\frac{\\alpha}{4}\\left[ (S^2_+ + S^2_-)(\\phi_{x^2} - \\phi_{y^2}) + (6 S^2_z - 2 \\mathbf{S}^2)\\phi_{z^2} \\right]\n",
      "\\end{align*}"
     ]
    },
    {
     "cell_type": "markdown",
     "metadata": {},
     "source": [
      "Which we coalesce into the desired form\n",
      "$$\n",
      "H_{int} = \\frac{\\phi_{z^2} \\alpha}{2}\n",
      "(3 S^2_z - \\mathbf{S}^2) +\n",
      "\\frac{\\alpha(\\phi_{x^2} - \\phi_{y^2})}{4}\n",
      "(S^2_+ + S^2_-)\n",
      "=\n",
      "A(3 S^2_z - \\mathbf{S}^2) + \n",
      "B(S^2_+ + S^2_-)\n",
      "$$\n",
      "We plug this into sympy to get the matrix representation:"
     ]
    },
    {
     "cell_type": "code",
     "collapsed": false,
     "input": [
      "from sympy import Rational # we need a fraction type to represent non-integer spin\n",
      "from sympy.physics.quantum.spin import (J2, # Total angular momentum operator\n",
      "                                        Jplus, Jminus) # ladder operators\n",
      "A, B = symbols('A B')\n",
      "H = A*(3 * Jz**2 - J2) + B*(Jplus**2 + Jminus**2)\n",
      "H"
     ],
     "language": "python",
     "metadata": {},
     "outputs": [
      {
       "latex": [
        "$$A \\left(- J^2 + 3 \\left(J_z\\right)^{2}\\right) + B \\left(\\left(J_-\\right)^{2} + \\left(J_+\\right)^{2}\\right)$$"
       ],
       "metadata": {},
       "output_type": "pyout",
       "prompt_number": 26,
       "text": [
        "  \u239b   2         2\u239e     \u239b    2       2\u239e\n",
        "A\u22c5\u239c- J  + 3\u22c5\u239bJ \u239e \u239f + B\u22c5\u239c\u239bJ \u239e  + \u239bJ \u239e \u239f\n",
        "  \u239d         \u239d z\u23a0 \u23a0     \u239d\u239d -\u23a0    \u239d +\u23a0 \u23a0"
       ]
      }
     ],
     "prompt_number": 26
    },
    {
     "cell_type": "code",
     "collapsed": false,
     "input": [
      "Hmat = represent(op, j=Rational(3, 2))\n",
      "Hmat\n",
      "# The solution manual is wrong here...? The off diagonal entries are diffirent, mine seem correct. The solution manuals are out of place."
     ],
     "language": "python",
     "metadata": {},
     "outputs": [
      {
       "latex": [
        "$$\\left[\\begin{matrix}3 \\hbar^{2} A & 0 & 2 \\sqrt{3} \\hbar^{2} B & 0\\\\0 & - 3 \\hbar^{2} A & 0 & 2 \\sqrt{3} \\hbar^{2} B\\\\2 \\sqrt{3} \\hbar^{2} B & 0 & - 3 \\hbar^{2} A & 0\\\\0 & 2 \\sqrt{3} \\hbar^{2} B & 0 & 3 \\hbar^{2} A\\end{matrix}\\right]$$"
       ],
       "metadata": {},
       "output_type": "pyout",
       "prompt_number": 34,
       "text": [
        "\u23a1      2                         ___  2                \u23a4\n",
        "\u23a2   3\u22c5\u210f \u22c5A          0        2\u22c5\u2572\u2571 3 \u22c5\u210f \u22c5B       0      \u23a5\n",
        "\u23a2                                                      \u23a5\n",
        "\u23a2                    2                         ___  2  \u23a5\n",
        "\u23a2     0          -3\u22c5\u210f \u22c5A          0        2\u22c5\u2572\u2571 3 \u22c5\u210f \u22c5B\u23a5\n",
        "\u23a2                                                      \u23a5\n",
        "\u23a2    ___  2                        2                   \u23a5\n",
        "\u23a22\u22c5\u2572\u2571 3 \u22c5\u210f \u22c5B       0          -3\u22c5\u210f \u22c5A          0      \u23a5\n",
        "\u23a2                                                      \u23a5\n",
        "\u23a2                  ___  2                        2     \u23a5\n",
        "\u23a3     0        2\u22c5\u2572\u2571 3 \u22c5\u210f \u22c5B       0           3\u22c5\u210f \u22c5A   \u23a6"
       ]
      }
     ],
     "prompt_number": 34
    },
    {
     "cell_type": "code",
     "collapsed": false,
     "input": [
      "# We Diagonalize the matrix representation:\n",
      "U, D = Hmat.diagonalize()\n",
      "# Which gives the spectra:\n",
      "D.simplify()\n",
      "D"
     ],
     "language": "python",
     "metadata": {},
     "outputs": [
      {
       "latex": [
        "$$\\left[\\begin{matrix}- \\hbar^{2} \\sqrt{9 A^{2} + 12 B^{2}} & 0 & 0 & 0\\\\0 & - \\hbar^{2} \\sqrt{9 A^{2} + 12 B^{2}} & 0 & 0\\\\0 & 0 & \\hbar^{2} \\sqrt{9 A^{2} + 12 B^{2}} & 0\\\\0 & 0 & 0 & \\hbar^{2} \\sqrt{9 A^{2} + 12 B^{2}}\\end{matrix}\\right]$$"
       ],
       "metadata": {},
       "output_type": "pyout",
       "prompt_number": 46,
       "text": [
        "\u23a1       ______________                                                        \n",
        "\u23a2  2   \u2571    2       2                                                         \n",
        "\u23a2-\u210f \u22c5\u2572\u2571  9\u22c5A  + 12\u22c5B              0                     0                     \n",
        "\u23a2                                                                             \n",
        "\u23a2                              ______________                                 \n",
        "\u23a2                         2   \u2571    2       2                                  \n",
        "\u23a2          0            -\u210f \u22c5\u2572\u2571  9\u22c5A  + 12\u22c5B             0                     \n",
        "\u23a2                                                                             \n",
        "\u23a2                                                    ______________           \n",
        "\u23a2                                               2   \u2571    2       2            \n",
        "\u23a2          0                      0            \u210f \u22c5\u2572\u2571  9\u22c5A  + 12\u22c5B             \n",
        "\u23a2                                                                             \n",
        "\u23a2                                                                          ___\n",
        "\u23a2                                                                     2   \u2571   \n",
        "\u23a3          0                      0                     0            \u210f \u22c5\u2572\u2571  9\u22c5\n",
        "\n",
        "           \u23a4\n",
        "           \u23a5\n",
        "0          \u23a5\n",
        "           \u23a5\n",
        "           \u23a5\n",
        "           \u23a5\n",
        "0          \u23a5\n",
        "           \u23a5\n",
        "           \u23a5\n",
        "           \u23a5\n",
        "0          \u23a5\n",
        "           \u23a5\n",
        "___________\u23a5\n",
        " 2       2 \u23a5\n",
        "A  + 12\u22c5B  \u23a6"
       ]
      }
     ],
     "prompt_number": 46
    },
    {
     "cell_type": "code",
     "collapsed": false,
     "input": [
      "# And the Eigenvectors of H (each column is an eigen-vector) of the orig\n",
      "eig_vects = U**(-1)\n",
      "eig_vects.simplify()\n",
      "eig_vects\n"
     ],
     "language": "python",
     "metadata": {},
     "outputs": [
      {
       "latex": [
        "$$\\left[\\begin{matrix}- \\frac{B}{\\sqrt{3 A^{2} + 4 B^{2}}} & 0 & \\frac{\\sqrt{3} A}{2 \\sqrt{3 A^{2} + 4 B^{2}}} + \\frac{1}{2} & 0\\\\0 & - \\frac{B}{\\sqrt{3 A^{2} + 4 B^{2}}} & 0 & - \\frac{\\sqrt{3} A}{2 \\sqrt{3 A^{2} + 4 B^{2}}} + \\frac{1}{2}\\\\\\frac{B}{\\sqrt{3 A^{2} + 4 B^{2}}} & 0 & - \\frac{\\sqrt{3} A}{2 \\sqrt{3 A^{2} + 4 B^{2}}} + \\frac{1}{2} & 0\\\\0 & \\frac{B}{\\sqrt{3 A^{2} + 4 B^{2}}} & 0 & \\frac{\\sqrt{3} A}{2 \\sqrt{3 A^{2} + 4 B^{2}}} + \\frac{1}{2}\\end{matrix}\\right]$$"
       ],
       "metadata": {},
       "output_type": "pyout",
       "prompt_number": 45,
       "text": [
        "\u23a1                                            ___                              \n",
        "\u23a2      -B                                  \u2572\u2571 3 \u22c5A         1                  \n",
        "\u23a2\u2500\u2500\u2500\u2500\u2500\u2500\u2500\u2500\u2500\u2500\u2500\u2500\u2500\u2500\u2500\u2500         0           \u2500\u2500\u2500\u2500\u2500\u2500\u2500\u2500\u2500\u2500\u2500\u2500\u2500\u2500\u2500\u2500\u2500\u2500 + \u2500              0   \n",
        "\u23a2   _____________                          _____________   2                  \n",
        "\u23a2  \u2571    2      2                          \u2571    2      2                       \n",
        "\u23a2\u2572\u2571  3\u22c5A  + 4\u22c5B                       2\u22c5\u2572\u2571  3\u22c5A  + 4\u22c5B                        \n",
        "\u23a2                                                                             \n",
        "\u23a2                                                                       ___   \n",
        "\u23a2                        -B                                           \u2572\u2571 3 \u22c5A \n",
        "\u23a2       0          \u2500\u2500\u2500\u2500\u2500\u2500\u2500\u2500\u2500\u2500\u2500\u2500\u2500\u2500\u2500\u2500             0              - \u2500\u2500\u2500\u2500\u2500\u2500\u2500\u2500\u2500\u2500\u2500\u2500\u2500\n",
        "\u23a2                     _____________                                   ________\n",
        "\u23a2                    \u2571    2      2                                   \u2571    2   \n",
        "\u23a2                  \u2572\u2571  3\u22c5A  + 4\u22c5B                                2\u22c5\u2572\u2571  3\u22c5A  + \n",
        "\u23a2                                                                             \n",
        "\u23a2                                             ___                             \n",
        "\u23a2       B                                   \u2572\u2571 3 \u22c5A         1                 \n",
        "\u23a2\u2500\u2500\u2500\u2500\u2500\u2500\u2500\u2500\u2500\u2500\u2500\u2500\u2500\u2500\u2500\u2500         0          - \u2500\u2500\u2500\u2500\u2500\u2500\u2500\u2500\u2500\u2500\u2500\u2500\u2500\u2500\u2500\u2500\u2500\u2500 + \u2500             0   \n",
        "\u23a2   _____________                           _____________   2                 \n",
        "\u23a2  \u2571    2      2                           \u2571    2      2                      \n",
        "\u23a2\u2572\u2571  3\u22c5A  + 4\u22c5B                        2\u22c5\u2572\u2571  3\u22c5A  + 4\u22c5B                       \n",
        "\u23a2                                                                             \n",
        "\u23a2                                                                      ___    \n",
        "\u23a2                         B                                          \u2572\u2571 3 \u22c5A  \n",
        "\u23a2       0          \u2500\u2500\u2500\u2500\u2500\u2500\u2500\u2500\u2500\u2500\u2500\u2500\u2500\u2500\u2500\u2500             0               \u2500\u2500\u2500\u2500\u2500\u2500\u2500\u2500\u2500\u2500\u2500\u2500\u2500\u2500\n",
        "\u23a2                     _____________                                  _________\n",
        "\u23a2                    \u2571    2      2                                  \u2571    2    \n",
        "\u23a3                  \u2572\u2571  3\u22c5A  + 4\u22c5B                               2\u22c5\u2572\u2571  3\u22c5A  + 4\n",
        "\n",
        "         \u23a4\n",
        "         \u23a5\n",
        "         \u23a5\n",
        "         \u23a5\n",
        "         \u23a5\n",
        "         \u23a5\n",
        "         \u23a5\n",
        "         \u23a5\n",
        "        1\u23a5\n",
        "\u2500\u2500\u2500\u2500\u2500 + \u2500\u23a5\n",
        "_____   2\u23a5\n",
        "   2     \u23a5\n",
        "4\u22c5B      \u23a5\n",
        "         \u23a5\n",
        "         \u23a5\n",
        "         \u23a5\n",
        "         \u23a5\n",
        "         \u23a5\n",
        "         \u23a5\n",
        "         \u23a5\n",
        "         \u23a5\n",
        "         \u23a5\n",
        "       1 \u23a5\n",
        "\u2500\u2500\u2500\u2500 + \u2500 \u23a5\n",
        "____   2 \u23a5\n",
        "  2      \u23a5\n",
        "\u22c5B       \u23a6"
       ]
      }
     ],
     "prompt_number": 45
    },
    {
     "cell_type": "markdown",
     "metadata": {},
     "source": [
      "So yes, there are 2 degenerate energies: $ \\pm \\hbar^2 \\sqrt{9 A^2 + 12 B^2}$."
     ]
    }
   ],
   "metadata": {}
  }
 ]
}