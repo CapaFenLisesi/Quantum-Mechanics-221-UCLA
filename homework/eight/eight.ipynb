{
 "metadata": {
  "name": "",
  "signature": "sha256:74b1e6f9601e736797fd0bbd1865b653d1f239da1f44849df813716a1267b056"
 },
 "nbformat": 3,
 "nbformat_minor": 0,
 "worksheets": [
  {
   "cells": [
    {
     "cell_type": "markdown",
     "metadata": {},
     "source": [
      "# 3.3"
     ]
    },
    {
     "cell_type": "code",
     "collapsed": false,
     "input": [
      "from sympy import init_printing\n",
      "init_printing() # setup pretty LaTeX printing"
     ],
     "language": "python",
     "metadata": {},
     "outputs": [],
     "prompt_number": 1
    },
    {
     "cell_type": "code",
     "collapsed": false,
     "input": [
      "from sympy.physics.quantum.spin import (JzKet, # angular momentum ket obj in z basis\n",
      "                                        Jz, Jx) # angular momentum operators\n",
      "from sympy.physics.quantum import (hbar, # hbar constant\n",
      "                                   represent, # represnt operators in matrix form\n",
      "                                   IdentityOperator) # Identity operator"
     ],
     "language": "python",
     "metadata": {},
     "outputs": [],
     "prompt_number": 2
    },
    {
     "cell_type": "code",
     "collapsed": false,
     "input": [
      "#Represent converts operators to their matrices for the given j basis for example:\n",
      "represent(Jx*Jx, j=1)"
     ],
     "language": "python",
     "metadata": {},
     "outputs": [
      {
       "latex": [
        "$$\\left[\\begin{matrix}\\frac{\\hbar^{2}}{2} & 0 & \\frac{\\hbar^{2}}{2}\\\\0 & \\hbar^{2} & 0\\\\\\frac{\\hbar^{2}}{2} & 0 & \\frac{\\hbar^{2}}{2}\\end{matrix}\\right]$$"
       ],
       "metadata": {},
       "output_type": "pyout",
       "prompt_number": 3,
       "text": [
        "\u23a1 2       2\u23a4\n",
        "\u23a2\u210f       \u210f \u23a5\n",
        "\u23a2\u2500\u2500  0   \u2500\u2500\u23a5\n",
        "\u23a22       2 \u23a5\n",
        "\u23a2          \u23a5\n",
        "\u23a2     2    \u23a5\n",
        "\u23a20   \u210f   0 \u23a5\n",
        "\u23a2          \u23a5\n",
        "\u23a2 2       2\u23a5\n",
        "\u23a2\u210f       \u210f \u23a5\n",
        "\u23a2\u2500\u2500  0   \u2500\u2500\u23a5\n",
        "\u23a32       2 \u23a6"
       ]
      }
     ],
     "prompt_number": 3
    },
    {
     "cell_type": "markdown",
     "metadata": {},
     "source": [
      "We note that\n",
      "$$ J_z(J_z + \\hbar)(J_z - \\hbar) = J_z(J^2_z - \\hbar^2)$$ and $$ J_x(J_x + \\hbar)(J_x - \\hbar) = J_x(J^2_x - \\hbar^2)$$\n",
      "So we represent these as matrices using the `represent` command with `j=1`."
     ]
    },
    {
     "cell_type": "code",
     "collapsed": false,
     "input": [
      "represent(Jz*(Jz*Jz - hbar**2 * IdentityOperator(3)), j=1)"
     ],
     "language": "python",
     "metadata": {},
     "outputs": [
      {
       "latex": [
        "$$\\left[\\begin{matrix}0 & 0 & 0\\\\0 & 0 & 0\\\\0 & 0 & 0\\end{matrix}\\right]$$"
       ],
       "metadata": {},
       "output_type": "pyout",
       "prompt_number": 4,
       "text": [
        "\u23a10  0  0\u23a4\n",
        "\u23a2       \u23a5\n",
        "\u23a20  0  0\u23a5\n",
        "\u23a2       \u23a5\n",
        "\u23a30  0  0\u23a6"
       ]
      }
     ],
     "prompt_number": 4
    },
    {
     "cell_type": "code",
     "collapsed": false,
     "input": [
      "represent(Jx*(Jx*Jx - hbar**2 * IdentityOperator(3)), j=1)"
     ],
     "language": "python",
     "metadata": {},
     "outputs": [
      {
       "latex": [
        "$$\\left[\\begin{matrix}0 & 0 & 0\\\\0 & 0 & 0\\\\0 & 0 & 0\\end{matrix}\\right]$$"
       ],
       "metadata": {},
       "output_type": "pyout",
       "prompt_number": 5,
       "text": [
        "\u23a10  0  0\u23a4\n",
        "\u23a2       \u23a5\n",
        "\u23a20  0  0\u23a5\n",
        "\u23a2       \u23a5\n",
        "\u23a30  0  0\u23a6"
       ]
      }
     ],
     "prompt_number": 5
    },
    {
     "cell_type": "markdown",
     "metadata": {},
     "source": [
      "# 3.13\n",
      "\n",
      "Recall a rotation of a infitesmal angla $d\\phi$ about a vector $\\mathbf{\\hat{n}}$ is expressed (3.1.15):\n",
      "$$\n",
      "D(\\mathbf{\\hat{n}}, d \\phi) = 1 - i\\left(\\frac{ \\mathbf{J} \\cdot \\mathbf{\\hat{n}} }{ \\hbar }\\right) d\\phi\n",
      "$$\n",
      "We compound these to get a finite rotation, so in this case about the $y$ axis for the angle $\\epsilon$ (Sakurai 3.1.16):\n",
      "$$\n",
      "D_y(\\epsilon) = \\lim_{N \\to \\infty} \\left[ 1 - i \\left(\\frac{J_y \\epsilon}{\\hbar N}\\right) \\right]^N = 1 - \\frac{i J_y \\epsilon}{\\hbar} - \\frac{J^2_y \\epsilon^2}{2 \\hbar} + ...\n",
      "$$\n",
      "We only want up to order $\\epsilon$ for this problem so finding the probability:"
     ]
    },
    {
     "cell_type": "code",
     "collapsed": false,
     "input": [
      "# We need a 'symbol' to represent j since it is not a certain quantity in our calculations\n",
      "from sympy import symbols\n",
      "m, j, eps = symbols('m j \\epsilon') # eps is the rotation angle epsilon the name here lets up print it pretty in LaTeX (cool huh?)\n",
      "\n",
      "from sympy.physics.quantum.spin import (JzBra, JzKet, # Angular momentum bra and ket objects in z basis.\n",
      "                                        Jy) # Jy operator\n",
      "\n",
      "from sympy.physics.quantum import qapply # This functions evaluates quantum expressions.\n",
      "\n",
      "# Make our bra and ket. The arguments to JzBra/Ket are the j and m values respectively. Since we are at m max, m = j.\n",
      "m = j\n",
      "bra, ket = JzBra(j, m), JzKet(j, m)\n",
      "\n",
      "# Make our rotation operator\n",
      "D_y = IdentityOperator(j) - (1j * Jy * eps / hbar) - (Jy**2 * eps**2)/(2 * hbar**2)\n",
      "\n",
      "# So we have\n",
      "bra*D_y*ket\n"
     ],
     "language": "python",
     "metadata": {},
     "outputs": [
      {
       "latex": [
        "$${\\left\\langle j,j\\right|} \\left(- \\frac{\\epsilon^{2} \\left(J_y\\right)^{2}}{2 \\hbar^{2}} - \\frac{1.0 i}{\\hbar} \\epsilon J_y + {\\mathcal{I}}\\right) {\\left|j,j\\right\\rangle }$$"
       ],
       "metadata": {},
       "output_type": "pyout",
       "prompt_number": 6,
       "text": [
        "      \u239b          2     2                        \u239e      \n",
        "      \u239c  \\epsilon \u22c5\u239bJ \u239e    1.0\u22c5\u2148\u22c5\\epsilon\u22c5J     \u239f      \n",
        "      \u239c            \u239d y\u23a0                    y    \u239f      \n",
        "\u27e8j,j\u2758\u22c5\u239c- \u2500\u2500\u2500\u2500\u2500\u2500\u2500\u2500\u2500\u2500\u2500\u2500\u2500\u2500\u2500 - \u2500\u2500\u2500\u2500\u2500\u2500\u2500\u2500\u2500\u2500\u2500\u2500\u2500\u2500\u2500\u2500\u2500 + I\u239f\u22c5\u2758j,j\u27e9\n",
        "      \u239c           2                \u210f            \u239f      \n",
        "      \u239d        2\u22c5\u210f                              \u23a0      "
       ]
      }
     ],
     "prompt_number": 6
    },
    {
     "cell_type": "code",
     "collapsed": false,
     "input": [
      "val = qapply(bra * D_y * ket).doit() # `qapply` applies operators, `doit` applies innerproducts\n",
      "val"
     ],
     "language": "python",
     "metadata": {},
     "outputs": [
      {
       "latex": [
        "$$- \\frac{\\epsilon^{2} j}{4} + 1$$"
       ],
       "metadata": {},
       "output_type": "pyout",
       "prompt_number": 7,
       "text": [
        "          2      \n",
        "  \\epsilon \u22c5j    \n",
        "- \u2500\u2500\u2500\u2500\u2500\u2500\u2500\u2500\u2500\u2500\u2500 + 1\n",
        "       4         "
       ]
      }
     ],
     "prompt_number": 7
    },
    {
     "cell_type": "code",
     "collapsed": false,
     "input": [
      "# But we want the square of this\n",
      "(val**2).expand()"
     ],
     "language": "python",
     "metadata": {},
     "outputs": [
      {
       "latex": [
        "$$\\frac{\\epsilon^{4} j^{2}}{16} - \\frac{\\epsilon^{2} j}{2} + 1$$"
       ],
       "metadata": {},
       "output_type": "pyout",
       "prompt_number": 8,
       "text": [
        "        4  2           2      \n",
        "\\epsilon \u22c5j    \\epsilon \u22c5j    \n",
        "\u2500\u2500\u2500\u2500\u2500\u2500\u2500\u2500\u2500\u2500\u2500\u2500 - \u2500\u2500\u2500\u2500\u2500\u2500\u2500\u2500\u2500\u2500\u2500 + 1\n",
        "     16             2         "
       ]
      }
     ],
     "prompt_number": 8
    },
    {
     "cell_type": "markdown",
     "metadata": {},
     "source": [
      "So up to order $\\epsilon^2 $ we have:\n",
      "$$\n",
      "\\left\\langle j, j \\right| D_y(\\epsilon) \\left|j, j\\right\\rangle = 1 - \\frac{\\epsilon^2 j}{2}\n",
      "$$\n",
      "    "
     ]
    },
    {
     "cell_type": "markdown",
     "metadata": {},
     "source": [
      "## 3.26\n",
      "\n",
      "### (a)\n",
      "\n",
      "Recall: \n",
      "$$\n",
      "J_\\pm = J_x \\pm iJ_y\n",
      "$$\n",
      "so\n",
      "$$\n",
      "J_y = \\frac{1}{2}(J_+ + J_-)\n",
      "$$\n",
      "and also recall:\n",
      "$$\n",
      "\\left\\langle j', m' \\right| J_\\pm \\left|j, m\\right\\rangle = \\sqrt{(j \\mp m)(j \\pm m + 1)} \\hbar \\delta_{j', j} \\delta_{m', m\\pm1}\n",
      "$$\n",
      "So the matrix elements are:\n",
      "$$\n",
      "\\left\\langle j', m' \\right| J_y \\left|j, m\\right\\rangle = \\left\\langle j', m' \\right| \\frac{1}{2}(J_+ + J_-) \\left|j, m\\right\\rangle = \\frac{1}{2}( \\sqrt{(j - m)(j + m + 1)} \\hbar \\delta_{j', j} \\delta_{m', m+1} \\sqrt{(j + m)(j - m + 1)} \\hbar \\delta_{j', j} \\delta_{m', m-1})\n",
      "$$\n",
      "This gives the matrix:\n",
      "$$\n",
      "\\left( \\begin{array}{ccc}\n",
      "0 & -\\frac{i\\hbar\\sqrt{2}}{2} & 0 \\\\\n",
      "\\frac{i\\hbar\\sqrt{2}}{2} & 0 & -\\frac{i\\hbar\\sqrt{2}}{2} \\\\\n",
      "0 & \\frac{i\\hbar\\sqrt{2}}{2} & 0 \\end{array} \\right)\n",
      "$$\n",
      "Which we can easily check with sympy:"
     ]
    },
    {
     "cell_type": "code",
     "collapsed": false,
     "input": [
      "represent(Jy, j=1)"
     ],
     "language": "python",
     "metadata": {},
     "outputs": [
      {
       "latex": [
        "$$\\left[\\begin{matrix}0 & - \\frac{\\sqrt{2} i}{2} \\hbar & 0\\\\\\frac{\\sqrt{2} i}{2} \\hbar & 0 & - \\frac{\\sqrt{2} i}{2} \\hbar\\\\0 & \\frac{\\sqrt{2} i}{2} \\hbar & 0\\end{matrix}\\right]$$"
       ],
       "metadata": {},
       "output_type": "pyout",
       "prompt_number": 14,
       "text": [
        "\u23a1              ___                  \u23a4\n",
        "\u23a2           -\u2572\u2571 2 \u22c5\u210f\u22c5\u2148              \u23a5\n",
        "\u23a2    0      \u2500\u2500\u2500\u2500\u2500\u2500\u2500\u2500\u2500\u2500\u2500       0     \u23a5\n",
        "\u23a2                2                  \u23a5\n",
        "\u23a2                                   \u23a5\n",
        "\u23a2  ___                      ___     \u23a5\n",
        "\u23a2\u2572\u2571 2 \u22c5\u210f\u22c5\u2148               -\u2572\u2571 2 \u22c5\u210f\u22c5\u2148 \u23a5\n",
        "\u23a2\u2500\u2500\u2500\u2500\u2500\u2500\u2500\u2500\u2500       0       \u2500\u2500\u2500\u2500\u2500\u2500\u2500\u2500\u2500\u2500\u2500\u23a5\n",
        "\u23a2    2                        2     \u23a5\n",
        "\u23a2                                   \u23a5\n",
        "\u23a2              ___                  \u23a5\n",
        "\u23a2            \u2572\u2571 2 \u22c5\u210f\u22c5\u2148              \u23a5\n",
        "\u23a2    0       \u2500\u2500\u2500\u2500\u2500\u2500\u2500\u2500\u2500        0     \u23a5\n",
        "\u23a3                2                  \u23a6"
       ]
      }
     ],
     "prompt_number": 14
    },
    {
     "cell_type": "code",
     "collapsed": false,
     "input": [],
     "language": "python",
     "metadata": {},
     "outputs": []
    }
   ],
   "metadata": {}
  }
 ]
}