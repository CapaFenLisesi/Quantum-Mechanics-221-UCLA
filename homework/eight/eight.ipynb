{
 "metadata": {
  "name": "",
  "signature": "sha256:c5e047fc74dbae65e26c42c5df1bc69f2334e2488fabeb2535dd6e2482809ce6"
 },
 "nbformat": 3,
 "nbformat_minor": 0,
 "worksheets": [
  {
   "cells": [
    {
     "cell_type": "markdown",
     "metadata": {},
     "source": [
      "# 3.3"
     ]
    },
    {
     "cell_type": "code",
     "collapsed": false,
     "input": [
      "from sympy import init_printing\n",
      "init_printing() # setup pretty LaTeX printing"
     ],
     "language": "python",
     "metadata": {},
     "outputs": [],
     "prompt_number": 10
    },
    {
     "cell_type": "code",
     "collapsed": false,
     "input": [
      "from sympy.physics.quantum.spin import (JzKet, # angular momentum ket obj in z basis\n",
      "                                        Jz, Jx) # angular momentum operators\n",
      "from sympy.physics.quantum import (hbar, # hbar constant\n",
      "                                   represent, # represnt operators in matrix form\n",
      "                                   IdentityOperator) # Identity operator"
     ],
     "language": "python",
     "metadata": {},
     "outputs": [],
     "prompt_number": 11
    },
    {
     "cell_type": "code",
     "collapsed": false,
     "input": [
      "#Represent converts operators to their matrices for the given j basis for example:\n",
      "represent(Jx*Jx, j=1)"
     ],
     "language": "python",
     "metadata": {},
     "outputs": [
      {
       "latex": [
        "$$\\left[\\begin{matrix}\\frac{\\hbar^{2}}{2} & 0 & \\frac{\\hbar^{2}}{2}\\\\0 & \\hbar^{2} & 0\\\\\\frac{\\hbar^{2}}{2} & 0 & \\frac{\\hbar^{2}}{2}\\end{matrix}\\right]$$"
       ],
       "metadata": {},
       "output_type": "pyout",
       "prompt_number": 12,
       "text": [
        "\u23a1 2       2\u23a4\n",
        "\u23a2\u210f       \u210f \u23a5\n",
        "\u23a2\u2500\u2500  0   \u2500\u2500\u23a5\n",
        "\u23a22       2 \u23a5\n",
        "\u23a2          \u23a5\n",
        "\u23a2     2    \u23a5\n",
        "\u23a20   \u210f   0 \u23a5\n",
        "\u23a2          \u23a5\n",
        "\u23a2 2       2\u23a5\n",
        "\u23a2\u210f       \u210f \u23a5\n",
        "\u23a2\u2500\u2500  0   \u2500\u2500\u23a5\n",
        "\u23a32       2 \u23a6"
       ]
      }
     ],
     "prompt_number": 12
    },
    {
     "cell_type": "markdown",
     "metadata": {},
     "source": [
      "We note that\n",
      "$$ J_z(J_z + \\hbar)(J_z - \\hbar) = J_z(J^2_z - \\hbar^2)$$ and $$ J_x(J_x + \\hbar)(J_x - \\hbar) = J_x(J^2_x - \\hbar^2)$$\n",
      "So we represent these as matrices using the `represent` command with `j=1`."
     ]
    },
    {
     "cell_type": "code",
     "collapsed": false,
     "input": [
      "represent(Jz*(Jz*Jz - hbar**2 * IdentityOperator(3)), j=1)"
     ],
     "language": "python",
     "metadata": {},
     "outputs": [
      {
       "latex": [
        "$$\\left[\\begin{matrix}0 & 0 & 0\\\\0 & 0 & 0\\\\0 & 0 & 0\\end{matrix}\\right]$$"
       ],
       "metadata": {},
       "output_type": "pyout",
       "prompt_number": 13,
       "text": [
        "\u23a10  0  0\u23a4\n",
        "\u23a2       \u23a5\n",
        "\u23a20  0  0\u23a5\n",
        "\u23a2       \u23a5\n",
        "\u23a30  0  0\u23a6"
       ]
      }
     ],
     "prompt_number": 13
    },
    {
     "cell_type": "code",
     "collapsed": false,
     "input": [
      "represent(Jx*(Jx*Jx - hbar**2 * IdentityOperator(3)), j=1)"
     ],
     "language": "python",
     "metadata": {},
     "outputs": [
      {
       "latex": [
        "$$\\left[\\begin{matrix}0 & 0 & 0\\\\0 & 0 & 0\\\\0 & 0 & 0\\end{matrix}\\right]$$"
       ],
       "metadata": {},
       "output_type": "pyout",
       "prompt_number": 14,
       "text": [
        "\u23a10  0  0\u23a4\n",
        "\u23a2       \u23a5\n",
        "\u23a20  0  0\u23a5\n",
        "\u23a2       \u23a5\n",
        "\u23a30  0  0\u23a6"
       ]
      }
     ],
     "prompt_number": 14
    },
    {
     "cell_type": "markdown",
     "metadata": {},
     "source": [
      "# 3.13\n",
      "\n",
      "Recall a rotation of a infitesmal angla $d\\phi$ about a vector $\\mathbf{\\hat{n}}$ is expressed (3.1.15):\n",
      "$$\n",
      "D(\\mathbf{\\hat{n}}, d \\phi) = 1 - i\\left(\\frac{ \\mathbf{J} \\cdot \\mathbf{\\hat{n}} }{ \\hbar }\\right) d\\phi\n",
      "$$\n",
      "We compound these to get a finite rotation, so in this case about the $y$ axis for the angle $\\epsilon$ (Sakurai 3.1.16):\n",
      "$$\n",
      "D_y(\\epsilon) = \\lim_{N \\to \\infty} \\left[ 1 - i \\left(\\frac{J_y \\epsilon}{\\hbar N}\\right) \\right]^N = 1 - \\frac{i J_y \\epsilon}{\\hbar} - \\frac{J^2_y \\epsilon^2}{2 \\hbar} + ...\n",
      "$$\n",
      "We only want up to order $\\epsilon$ for this problem so finding the probability:"
     ]
    },
    {
     "cell_type": "code",
     "collapsed": false,
     "input": [
      "# We need a 'symbols' to represent m, j, and epsilon since they are not certain quantities in our calculations\n",
      "from sympy import symbols\n",
      "m, j, eps = symbols('m j \\epsilon') # eps is the rotation angle epsilon. It pretty prints in LaTeX (cool huh?)\n",
      "\n",
      "from sympy.physics.quantum.spin import (JzBra, JzKet, # Angular momentum bra and ket objects in z basis.\n",
      "                                        Jy) # Jy operator\n",
      "\n",
      "from sympy.physics.quantum import qapply # This functions evaluates quantum expressions.\n",
      "\n",
      "# Make our bra and ket. The arguments to JzBra/Ket are the j and m values respectively. Since we are at m max, m = j.\n",
      "m = j\n",
      "bra, ket = JzBra(j, m), JzKet(j, m)\n",
      "\n",
      "# Make our rotation operator\n",
      "D_y = IdentityOperator(j) - (1j * Jy * eps / hbar) - (Jy**2 * eps**2)/(2 * hbar**2)\n",
      "\n",
      "# So we have\n",
      "bra*D_y*ket\n"
     ],
     "language": "python",
     "metadata": {},
     "outputs": [
      {
       "latex": [
        "$${\\left\\langle j,j\\right|} \\left(- \\frac{\\epsilon^{2} \\left(J_y\\right)^{2}}{2 \\hbar^{2}} - \\frac{1.0 i}{\\hbar} \\epsilon J_y + {\\mathcal{I}}\\right) {\\left|j,j\\right\\rangle }$$"
       ],
       "metadata": {},
       "output_type": "pyout",
       "prompt_number": 15,
       "text": [
        "      \u239b          2     2                        \u239e      \n",
        "      \u239c  \\epsilon \u22c5\u239bJ \u239e    1.0\u22c5\u2148\u22c5\\epsilon\u22c5J     \u239f      \n",
        "      \u239c            \u239d y\u23a0                    y    \u239f      \n",
        "\u27e8j,j\u2758\u22c5\u239c- \u2500\u2500\u2500\u2500\u2500\u2500\u2500\u2500\u2500\u2500\u2500\u2500\u2500\u2500\u2500 - \u2500\u2500\u2500\u2500\u2500\u2500\u2500\u2500\u2500\u2500\u2500\u2500\u2500\u2500\u2500\u2500\u2500 + I\u239f\u22c5\u2758j,j\u27e9\n",
        "      \u239c           2                \u210f            \u239f      \n",
        "      \u239d        2\u22c5\u210f                              \u23a0      "
       ]
      }
     ],
     "prompt_number": 15
    },
    {
     "cell_type": "code",
     "collapsed": false,
     "input": [
      "val = qapply(bra * D_y * ket).doit() # `qapply` applies operators, `doit` applies innerproducts\n",
      "val"
     ],
     "language": "python",
     "metadata": {},
     "outputs": [
      {
       "latex": [
        "$$- \\frac{\\epsilon^{2} j}{4} + 1$$"
       ],
       "metadata": {},
       "output_type": "pyout",
       "prompt_number": 16,
       "text": [
        "          2      \n",
        "  \\epsilon \u22c5j    \n",
        "- \u2500\u2500\u2500\u2500\u2500\u2500\u2500\u2500\u2500\u2500\u2500 + 1\n",
        "       4         "
       ]
      }
     ],
     "prompt_number": 16
    },
    {
     "cell_type": "code",
     "collapsed": false,
     "input": [
      "# But we want the square of this\n",
      "(val**2).expand()"
     ],
     "language": "python",
     "metadata": {},
     "outputs": [
      {
       "latex": [
        "$$\\frac{\\epsilon^{4} j^{2}}{16} - \\frac{\\epsilon^{2} j}{2} + 1$$"
       ],
       "metadata": {},
       "output_type": "pyout",
       "prompt_number": 17,
       "text": [
        "        4  2           2      \n",
        "\\epsilon \u22c5j    \\epsilon \u22c5j    \n",
        "\u2500\u2500\u2500\u2500\u2500\u2500\u2500\u2500\u2500\u2500\u2500\u2500 - \u2500\u2500\u2500\u2500\u2500\u2500\u2500\u2500\u2500\u2500\u2500 + 1\n",
        "     16             2         "
       ]
      }
     ],
     "prompt_number": 17
    },
    {
     "cell_type": "markdown",
     "metadata": {},
     "source": [
      "So up to order $\\epsilon^2 $ we have:\n",
      "$$\n",
      "\\left| \\left\\langle j, j \\right| D_y(\\epsilon) \\left|j, j\\right\\rangle \\right|^2 = 1 - \\frac{\\epsilon^2 j}{2}\n",
      "$$\n",
      "    "
     ]
    },
    {
     "cell_type": "markdown",
     "metadata": {},
     "source": [
      "## 3.26 (a)\n",
      "\n",
      "Recall: \n",
      "$$\n",
      "J_\\pm = J_x \\pm iJ_y\n",
      "$$\n",
      "so\n",
      "$$\n",
      "J_y = \\frac{1}{i2}(J_+ - J_-)\n",
      "$$\n",
      "and also recall:\n",
      "$$\n",
      "\\left\\langle j', m' \\right| J_\\pm \\left|j, m\\right\\rangle = \\sqrt{(j \\mp m)(j \\pm m + 1)} \\hbar \\delta_{j', j} \\delta_{m', m\\pm1}\n",
      "$$\n",
      "So the matrix elements are:\n",
      "$$\n",
      "\\left\\langle j', m' \\right| J_y \\left|j, m\\right\\rangle = \\left\\langle j', m' \\right| \\frac{1}{i2}(J_+ + J_-) \\left|j, m\\right\\rangle = \\frac{1}{i2}( \\sqrt{(j - m)(j + m + 1)} \\hbar \\delta_{j', j} \\delta_{m', m+1} \\sqrt{(j + m)(j - m + 1)} \\hbar \\delta_{j', j} \\delta_{m', m-1})\n",
      "$$\n",
      "This gives the matrix:\n",
      "$$\n",
      "\\left( \\begin{array}{ccc}\n",
      "0 & -\\frac{i\\hbar\\sqrt{2}}{2} & 0 \\\\\n",
      "\\frac{i\\hbar\\sqrt{2}}{2} & 0 & -\\frac{i\\hbar\\sqrt{2}}{2} \\\\\n",
      "0 & \\frac{i\\hbar\\sqrt{2}}{2} & 0 \\end{array} \\right)\n",
      "$$\n",
      "Which we can easily check with sympy:"
     ]
    },
    {
     "cell_type": "code",
     "collapsed": false,
     "input": [
      "represent(Jy**2, j=1)"
     ],
     "language": "python",
     "metadata": {},
     "outputs": [
      {
       "latex": [
        "$$\\left[\\begin{matrix}\\frac{\\hbar^{2}}{2} & 0 & - \\frac{\\hbar^{2}}{2}\\\\0 & \\hbar^{2} & 0\\\\- \\frac{\\hbar^{2}}{2} & 0 & \\frac{\\hbar^{2}}{2}\\end{matrix}\\right]$$"
       ],
       "metadata": {},
       "output_type": "pyout",
       "prompt_number": 18,
       "text": [
        "\u23a1  2         2 \u23a4\n",
        "\u23a2 \u210f        -\u210f  \u23a5\n",
        "\u23a2 \u2500\u2500   0   \u2500\u2500\u2500\u2500\u23a5\n",
        "\u23a2 2         2  \u23a5\n",
        "\u23a2              \u23a5\n",
        "\u23a2       2      \u23a5\n",
        "\u23a2 0    \u210f    0  \u23a5\n",
        "\u23a2              \u23a5\n",
        "\u23a2  2         2 \u23a5\n",
        "\u23a2-\u210f         \u210f  \u23a5\n",
        "\u23a2\u2500\u2500\u2500\u2500  0    \u2500\u2500 \u23a5\n",
        "\u23a3 2         2  \u23a6"
       ]
      }
     ],
     "prompt_number": 18
    },
    {
     "cell_type": "markdown",
     "metadata": {},
     "source": [
      "### 3.26 (b)\n",
      "\n",
      "Now Taylor expanding the function in question:\n",
      "$$\n",
      "e^{-i J_y \\beta / \\hbar} = 1 - \\left(\\frac{i \\beta J_y}{\\hbar}\\right) - \\left(\\frac{i \\beta}{\\hbar}\\right)^2 \\frac{J_y^2}{2!} + \\left(\\frac{i \\beta}{\\hbar}\\right)^3 \\frac{J_y^3}{3!} - ... = \\left(\\frac{-i \\beta}{\\hbar}\\right)^k \\frac{J_y^k}{k!}\n",
      "$$"
     ]
    },
    {
     "cell_type": "markdown",
     "metadata": {},
     "source": [
      "Now, using part a notice that $J_y / \\hbar$ to odd powers is:\n",
      "$$\n",
      "\\frac{J_y}{\\hbar}\n",
      "=\n",
      "\\left( \\begin{array}{ccc}\n",
      "0 & -\\frac{i\\hbar\\sqrt{2}}{2} & 0 \\\\\n",
      "\\frac{i\\hbar\\sqrt{2}}{2} & 0 & -\\frac{i\\hbar\\sqrt{2}}{2} \\\\\n",
      "0 & \\frac{i\\hbar\\sqrt{2}}{2} & 0 \\end{array} \\right)  \n",
      "=\n",
      "\\left( \\begin{array}{ccc}\n",
      "0 & -\\frac{i\\hbar\\sqrt{2}}{2} & 0 \\\\\n",
      "\\frac{i\\hbar\\sqrt{2}}{2} & 0 & -\\frac{i\\hbar\\sqrt{2}}{2} \\\\\n",
      "0 & \\frac{i\\hbar\\sqrt{2}}{2} & 0 \\end{array} \\right)^{(2k + 1)}\n",
      "=\n",
      "\\left(\\frac{J_y}{\\hbar}\\right)^{2k-1}\n",
      "$$\n",
      "and to even powers $J_y / \\hbar$ is:\n",
      "$$\n",
      "\\left(\\frac{J_y}{\\hbar}\\right)^2\n",
      "=\n",
      "\\left( \\begin{array}{ccc}\n",
      "\\frac{\\hbar^2}{2} & 0 & -\\frac{\\hbar^2}{2} \\\\\n",
      "0 & \\hbar^2 & 0 \\\\\n",
      "-\\frac{\\hbar^2}{2} & 0 & \\frac{i\\hbar\\sqrt{2}}{2} \\end{array} \\right)\n",
      "=\n",
      "\\left( \\begin{array}{ccc}\n",
      "\\frac{\\hbar^2}{2} & 0 & -\\frac{\\hbar^2}{2} \\\\\n",
      "0 & \\hbar^2 & 0 \\\\\n",
      "-\\frac{\\hbar^2}{2} & 0 & \\frac{i\\hbar\\sqrt{2}}{2} \\end{array} \\right)^{2k}\n",
      "=\n",
      "\\left(\\frac{J_y}{\\hbar}\\right)^{2k}\n",
      "$$"
     ]
    },
    {
     "cell_type": "markdown",
     "metadata": {},
     "source": [
      "So $J_y = J_y^{2n + 1}$ and $J_y^2 = J_y^{2n}$ so we can break up the Taylor expansion into even and odd terms and apply these identities:"
     ]
    },
    {
     "cell_type": "markdown",
     "metadata": {},
     "source": [
      "(using Einstein notation for the index k)\n",
      "$$\n",
      "e^{-i J_y \\beta / \\hbar}\n",
      "=\n",
      "  1 + (-1)^{k}\\left(\\frac{\\beta^{2k}}{(2k)!}\\right) \\left(\\frac{J_y}{\\hbar}\\right)^{2k}\n",
      " + i (-1)^k \\left(\\frac{\\beta^{2k-1}}{(2k-1)!}\\right) \\left(\\frac{J_y}{\\hbar}\\right)^{2k-1}\n",
      "=\n",
      "  1 + (-1)^{k}\\left(\\frac{\\beta^{2k}}{(2k)!}\\right) \\left(\\frac{J_y}{\\hbar}\\right)^{2}\n",
      " + i (-1)^k \\left(\\frac{\\beta^{2k-1}}{(2k-1)!}\\right) \\left(\\frac{J_y}{\\hbar}\\right)\n",
      "$$"
     ]
    },
    {
     "cell_type": "markdown",
     "metadata": {},
     "source": [
      "But recall $\\cos(\\beta) = \\left(\\frac{\\beta^{2n}}{(2n)!}\\right)$ and $\\sin(\\beta) = \\left(\\frac{\\beta^{2n - 1}}{(2n - 1)!}\\right)$ so we have:"
     ]
    },
    {
     "cell_type": "markdown",
     "metadata": {},
     "source": [
      "$$\n",
      "e^{-i J_y \\beta / \\hbar} = 1 + (\\cos \\beta - 1)\\left(\\frac{J_y}{\\hbar}\\right)^2 - i \\sin \\beta \\left(\\frac{J_y}{\\hbar}\\right)\n",
      "$$"
     ]
    },
    {
     "cell_type": "markdown",
     "metadata": {},
     "source": [
      "## 3.26 (c)\n",
      "\n",
      "So we have:"
     ]
    },
    {
     "cell_type": "markdown",
     "metadata": {},
     "source": [
      "$$\n",
      "d^{1}_{m'm} (\\beta) = \\left\\langle 1, m' \\right| \\exp \\left( \\frac{-i J_y \\beta}{\\hbar} \\right) \\left|1, m\\right\\rangle\n",
      "=\n",
      "\\left\\langle 1, m' \\right|\n",
      "1 + (\\cos \\beta - 1)\\left(\\frac{J_y}{\\hbar}\\right)^2 - i \\sin \\beta \\left(\\frac{J_y}{\\hbar}\\right)\n",
      "\\left|1, m\\right\\rangle\n",
      "$$\n",
      "We compute this with sympy, it so cool:"
     ]
    },
    {
     "cell_type": "code",
     "collapsed": false,
     "input": [
      "from sympy import cos, sin\n",
      "b = symbols('beta') # rotation angle symbol\n",
      "I = IdentityOperator(3) # 3D IdentityOperator alias for convenience\n",
      "\n",
      "op = I + (cos(b) - 1) * (Jy/hbar)**2 - 1j * sin(b)*(Jy/hbar) # The operator in question\n",
      "represent(op, j=1)"
     ],
     "language": "python",
     "metadata": {},
     "outputs": [
      {
       "latex": [
        "$$\\left[\\begin{matrix}\\frac{1}{2} \\cos{\\left (\\beta \\right )} + \\frac{1}{2} & - 0.5 \\sqrt{2} \\sin{\\left (\\beta \\right )} & - \\frac{1}{2} \\cos{\\left (\\beta \\right )} + \\frac{1}{2}\\\\0.5 \\sqrt{2} \\sin{\\left (\\beta \\right )} & \\cos{\\left (\\beta \\right )} & - 0.5 \\sqrt{2} \\sin{\\left (\\beta \\right )}\\\\- \\frac{1}{2} \\cos{\\left (\\beta \\right )} + \\frac{1}{2} & 0.5 \\sqrt{2} \\sin{\\left (\\beta \\right )} & \\frac{1}{2} \\cos{\\left (\\beta \\right )} + \\frac{1}{2}\\end{matrix}\\right]$$"
       ],
       "metadata": {},
       "output_type": "pyout",
       "prompt_number": 32,
       "text": [
        "\u23a1   cos(\u03b2)   1            ___             cos(\u03b2)   1   \u23a4\n",
        "\u23a2   \u2500\u2500\u2500\u2500\u2500\u2500 + \u2500     -0.5\u22c5\u2572\u2571 2 \u22c5sin(\u03b2)    - \u2500\u2500\u2500\u2500\u2500\u2500 + \u2500   \u23a5\n",
        "\u23a2     2      2                              2      2   \u23a5\n",
        "\u23a2                                                      \u23a5\n",
        "\u23a2      ___                                   ___       \u23a5\n",
        "\u23a20.5\u22c5\u2572\u2571 2 \u22c5sin(\u03b2)       cos(\u03b2)        -0.5\u22c5\u2572\u2571 2 \u22c5sin(\u03b2)\u23a5\n",
        "\u23a2                                                      \u23a5\n",
        "\u23a2    cos(\u03b2)   1          ___             cos(\u03b2)   1    \u23a5\n",
        "\u23a2  - \u2500\u2500\u2500\u2500\u2500\u2500 + \u2500    0.5\u22c5\u2572\u2571 2 \u22c5sin(\u03b2)      \u2500\u2500\u2500\u2500\u2500\u2500 + \u2500    \u23a5\n",
        "\u23a3      2      2                            2      2    \u23a6"
       ]
      }
     ],
     "prompt_number": 32
    },
    {
     "cell_type": "markdown",
     "metadata": {},
     "source": []
    }
   ],
   "metadata": {}
  }
 ]
}