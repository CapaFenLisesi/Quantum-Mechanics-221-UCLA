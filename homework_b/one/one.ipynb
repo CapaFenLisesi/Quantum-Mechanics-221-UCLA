{
 "metadata": {
  "name": "",
  "signature": "sha256:a152e198acbc2866b2472b52e7e241e1d44e84c2db4cb1b01993039264aee347"
 },
 "nbformat": 3,
 "nbformat_minor": 0,
 "worksheets": [
  {
   "cells": [
    {
     "cell_type": "markdown",
     "metadata": {},
     "source": [
      "This is scratch work from homework one, it was never turned in."
     ]
    },
    {
     "cell_type": "code",
     "collapsed": false,
     "input": [
      "from sympy import symbols, init_printing, integrate, sin, cos, exp, pi, oo"
     ],
     "language": "python",
     "metadata": {},
     "outputs": [],
     "prompt_number": 1
    },
    {
     "cell_type": "code",
     "collapsed": false,
     "input": [
      "r, phi, theta, b, a = symbols('r, phi, theta, beta, alpha')"
     ],
     "language": "python",
     "metadata": {},
     "outputs": [],
     "prompt_number": 2
    },
    {
     "cell_type": "code",
     "collapsed": false,
     "input": [
      "init_printing()"
     ],
     "language": "python",
     "metadata": {},
     "outputs": [],
     "prompt_number": 3
    },
    {
     "cell_type": "code",
     "collapsed": false,
     "input": [
      "beta = r*(sin(theta)*(cos(phi) + sin(phi)) + 2*cos(theta))"
     ],
     "language": "python",
     "metadata": {},
     "outputs": [],
     "prompt_number": 4
    },
    {
     "cell_type": "code",
     "collapsed": false,
     "input": [
      "beta"
     ],
     "language": "python",
     "metadata": {},
     "outputs": [
      {
       "latex": [
        "$$r \\left(\\left(\\sin{\\left (\\phi \\right )} + \\cos{\\left (\\phi \\right )}\\right) \\sin{\\left (\\theta \\right )} + 2 \\cos{\\left (\\theta \\right )}\\right)$$"
       ],
       "metadata": {},
       "output_type": "pyout",
       "prompt_number": 5,
       "text": [
        "r\u22c5((sin(\u03c6) + cos(\u03c6))\u22c5sin(\u03b8) + 2\u22c5cos(\u03b8))"
       ]
      }
     ],
     "prompt_number": 5
    },
    {
     "cell_type": "code",
     "collapsed": false,
     "input": [
      "expression1 = (beta**2) * exp(-3*a*r) * r*sin(theta)*(cos(phi) - sin(phi))*(1 + a*b/r)\n",
      "expression1"
     ],
     "language": "python",
     "metadata": {},
     "outputs": [
      {
       "latex": [
        "$$r^{3} \\left(\\left(\\sin{\\left (\\phi \\right )} + \\cos{\\left (\\phi \\right )}\\right) \\sin{\\left (\\theta \\right )} + 2 \\cos{\\left (\\theta \\right )}\\right)^{2} \\left(\\frac{\\alpha \\beta}{r} + 1\\right) \\left(- \\sin{\\left (\\phi \\right )} + \\cos{\\left (\\phi \\right )}\\right) e^{- 3 \\alpha r} \\sin{\\left (\\theta \\right )}$$"
       ],
       "metadata": {},
       "output_type": "pyout",
       "prompt_number": 6,
       "text": [
        " 3                                      2 \u239b\u03b1\u22c5\u03b2    \u239e                     -3\u22c5\u03b1\u22c5r\n",
        "r \u22c5((sin(\u03c6) + cos(\u03c6))\u22c5sin(\u03b8) + 2\u22c5cos(\u03b8)) \u22c5\u239c\u2500\u2500\u2500 + 1\u239f\u22c5(-sin(\u03c6) + cos(\u03c6))\u22c5\u212f      \n",
        "                                          \u239d r     \u23a0                           \n",
        "\n",
        "       \n",
        "\u22c5sin(\u03b8)\n",
        "       "
       ]
      }
     ],
     "prompt_number": 6
    },
    {
     "cell_type": "code",
     "collapsed": false,
     "input": [
      "foo = integrate(expression1, (theta, 0, 2*pi))\n",
      "foo"
     ],
     "language": "python",
     "metadata": {},
     "outputs": [
      {
       "latex": [
        "$$0$$"
       ],
       "metadata": {},
       "output_type": "pyout",
       "prompt_number": 7,
       "text": [
        "0"
       ]
      }
     ],
     "prompt_number": 7
    },
    {
     "cell_type": "code",
     "collapsed": false,
     "input": [
      "expression2 = r**4 * exp(-2*a*r)"
     ],
     "language": "python",
     "metadata": {},
     "outputs": [],
     "prompt_number": 12
    },
    {
     "cell_type": "code",
     "collapsed": false,
     "input": [
      "integrate(expression2, (r, 0, oo))"
     ],
     "language": "python",
     "metadata": {},
     "outputs": [
      {
       "latex": [
        "$$\\begin{cases} \\frac{3}{4 \\alpha^{5}} & \\text{for}\\: \\left\\lvert{\\operatorname{periodic_{argument}}{\\left (\\alpha,\\infty \\right )}}\\right\\rvert < \\frac{\\pi}{2} \\\\\\int_{0}^{\\infty} r^{4} e^{- 2 \\alpha r}\\, dr & \\text{otherwise} \\end{cases}$$"
       ],
       "metadata": {},
       "output_type": "pyout",
       "prompt_number": 13,
       "text": [
        "\u23a7      3                                          \u03c0\n",
        "\u23aa     \u2500\u2500\u2500\u2500        for \u2502periodic_argument(\u03b1, \u221e)\u2502 < \u2500\n",
        "\u23aa        5                                        2\n",
        "\u23aa     4\u22c5\u03b1                                          \n",
        "\u23aa                                                  \n",
        "\u23a8\u221e                                                 \n",
        "\u23aa\u2320                                                 \n",
        "\u23aa\u23ae  4  -2\u22c5\u03b1\u22c5r                                      \n",
        "\u23aa\u23ae r \u22c5\u212f       dr              otherwise            \n",
        "\u23aa\u2321                                                 \n",
        "\u23a90                                                 "
       ]
      }
     ],
     "prompt_number": 13
    }
   ],
   "metadata": {}
  }
 ]
}