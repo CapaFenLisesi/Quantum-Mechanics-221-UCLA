{
 "metadata": {
  "name": "",
  "signature": "sha256:b707ee74183fb109b1414bd54dba297ee1d8bc32b15390c0b849f3ef8ace06cd"
 },
 "nbformat": 3,
 "nbformat_minor": 0,
 "worksheets": [
  {
   "cells": [
    {
     "cell_type": "code",
     "collapsed": false,
     "input": [
      "# First some common imports\n",
      "\n",
      "from sympy import (symbols, # for defining symbolic variables\n",
      "                   init_printing, # pretty printing\n",
      "                   sin, cos, # basic math functions\n",
      "                   Matrix) # for making matrix objects\n",
      "\n",
      "from sympy.physics.quantum.constants import hbar # good ol' hbar\n",
      "\n",
      "# spin stuff\n",
      "from sympy.physics.quantum.spin import (JzKet, # angular momentum ket obj in z basis\n",
      "                                        Jz, Jx, Jy, # angular momentum operators\n",
      "                                        Jplus, Jminus) # raising and lowering operators\n",
      "\n",
      "# Stuff for operators\n",
      "from sympy.physics.quantum import (TensorProduct, # For operators in seperate hilber spaces\n",
      "                                   represent) # Represent an operator in matrix form. Yay! no more manually computing matrix elements\n",
      "                                        \n",
      "from sympy.physics.quantum.operator import IdentityOperator # Identity operator\n",
      "\n",
      "# enable LaTeX printing in this notebook\n",
      "init_printing()\n",
      "\n",
      "# some common symbol\n",
      "b, a = symbols('beta, alpha')"
     ],
     "language": "python",
     "metadata": {},
     "outputs": [],
     "prompt_number": 1
    },
    {
     "cell_type": "markdown",
     "metadata": {},
     "source": [
      "# 2"
     ]
    },
    {
     "cell_type": "code",
     "collapsed": false,
     "input": [
      "theta = symbols('theta') # to represent the angle from the Z axis\n",
      "\n",
      "# the matrix derived by hand\n",
      "m2 = Matrix([[cos(theta), sin(theta)],\n",
      "            [sin(theta), -cos(theta)]])\n",
      "\n",
      "# the eigen vectors of the matrix, for computing the probabilities of each result.\n",
      "m2.eigenvects()"
     ],
     "language": "python",
     "metadata": {},
     "outputs": [
      {
       "latex": [
        "$$\\left [ \\left ( -1, \\quad 1, \\quad \\left [ \\left[\\begin{matrix}- \\frac{\\sin{\\left (\\theta \\right )}}{\\cos{\\left (\\theta \\right )} + 1}\\\\1\\end{matrix}\\right]\\right ]\\right ), \\quad \\left ( 1, \\quad 1, \\quad \\left [ \\left[\\begin{matrix}- \\frac{\\sin{\\left (\\theta \\right )}}{\\cos{\\left (\\theta \\right )} - 1}\\\\1\\end{matrix}\\right]\\right ]\\right )\\right ]$$"
       ],
       "metadata": {},
       "output_type": "pyout",
       "prompt_number": 3,
       "text": [
        "\u23a1\u239b       \u23a1\u23a1 -sin(\u03b8)  \u23a4\u23a4\u239e  \u239b      \u23a1\u23a1 -sin(\u03b8)  \u23a4\u23a4\u239e\u23a4\n",
        "\u23a2\u239c-1, 1, \u23a2\u23a2\u2500\u2500\u2500\u2500\u2500\u2500\u2500\u2500\u2500\u2500\u23a5\u23a5\u239f, \u239c1, 1, \u23a2\u23a2\u2500\u2500\u2500\u2500\u2500\u2500\u2500\u2500\u2500\u2500\u23a5\u23a5\u239f\u23a5\n",
        "\u23a2\u239c       \u23a2\u23a2cos(\u03b8) + 1\u23a5\u23a5\u239f  \u239c      \u23a2\u23a2cos(\u03b8) - 1\u23a5\u23a5\u239f\u23a5\n",
        "\u23a2\u239c       \u23a2\u23a2          \u23a5\u23a5\u239f  \u239c      \u23a2\u23a2          \u23a5\u23a5\u239f\u23a5\n",
        "\u23a3\u239d       \u23a3\u23a3    1     \u23a6\u23a6\u23a0  \u239d      \u23a3\u23a3    1     \u23a6\u23a6\u23a0\u23a6"
       ]
      }
     ],
     "prompt_number": 3
    },
    {
     "cell_type": "markdown",
     "metadata": {},
     "source": [
      "# 3"
     ]
    },
    {
     "cell_type": "code",
     "collapsed": false,
     "input": [
      "I = IdentityOperator(2) # Create an Identity operator in 2 dimensions.\n",
      "\n",
      "# Express the hamiltonian, this is nasty\n",
      "H3 = (a / hbar**2) * (TensorProduct(Jx, Jx, I) + TensorProduct(Jy, Jy, I) + TensorProduct(Jz, Jz, I)) + (b/hbar**2) * (\n",
      "                        TensorProduct(Jx, I, Jx) + TensorProduct(Jy, I, Jy) + TensorProduct(Jz, I, Jz) + \\\n",
      "                        TensorProduct(I, Jx, Jx) + TensorProduct(I, Jy, Jy) + TensorProduct(I, Jz, Jz))\n",
      "H3"
     ],
     "language": "python",
     "metadata": {},
     "outputs": [
      {
       "latex": [
        "$$\\frac{\\alpha}{\\hbar^{2}} \\left({J_x}\\otimes {J_x}\\otimes {{\\mathcal{I}}} + {J_y}\\otimes {J_y}\\otimes {{\\mathcal{I}}} + {J_z}\\otimes {J_z}\\otimes {{\\mathcal{I}}}\\right) + \\frac{\\beta}{\\hbar^{2}} \\left({{\\mathcal{I}}}\\otimes {J_x}\\otimes {J_x} + {{\\mathcal{I}}}\\otimes {J_y}\\otimes {J_y} + {{\\mathcal{I}}}\\otimes {J_z}\\otimes {J_z} + {J_x}\\otimes {{\\mathcal{I}}}\\otimes {J_x} + {J_y}\\otimes {{\\mathcal{I}}}\\otimes {J_y} + {J_z}\\otimes {{\\mathcal{I}}}\\otimes {J_z}\\right)$$"
       ],
       "metadata": {},
       "output_type": "pyout",
       "prompt_number": 4,
       "text": [
        "\u03b1\u22c5\u239bJ \u2a02 J \u2a02 I + J \u2a02 J \u2a02 I + J \u2a02 J \u2a02 I\u239e   \u03b2\u22c5\u239bI\u2a02 J \u2a02 J  + I\u2a02 J \u2a02 J  + I\u2a02 J \u2a02 J  +\n",
        "  \u239d x   x       y   y       z   z   \u23a0     \u239d    x   x       y   y       z   z  \n",
        "\u2500\u2500\u2500\u2500\u2500\u2500\u2500\u2500\u2500\u2500\u2500\u2500\u2500\u2500\u2500\u2500\u2500\u2500\u2500\u2500\u2500\u2500\u2500\u2500\u2500\u2500\u2500\u2500\u2500\u2500\u2500\u2500\u2500\u2500\u2500\u2500\u2500 + \u2500\u2500\u2500\u2500\u2500\u2500\u2500\u2500\u2500\u2500\u2500\u2500\u2500\u2500\u2500\u2500\u2500\u2500\u2500\u2500\u2500\u2500\u2500\u2500\u2500\u2500\u2500\u2500\u2500\u2500\u2500\u2500\u2500\u2500\u2500\u2500\u2500\u2500\n",
        "                   2                                                         2\n",
        "                  \u210f                                                         \u210f \n",
        "\n",
        " J \u2a02 I\u2a02 J  + J \u2a02 I\u2a02 J  + J \u2a02 I\u2a02 J \u239e\n",
        "  x      x    y      y    z      z\u23a0\n",
        "\u2500\u2500\u2500\u2500\u2500\u2500\u2500\u2500\u2500\u2500\u2500\u2500\u2500\u2500\u2500\u2500\u2500\u2500\u2500\u2500\u2500\u2500\u2500\u2500\u2500\u2500\u2500\u2500\u2500\u2500\u2500\u2500\u2500\u2500\u2500\n",
        "                                   \n",
        "                                   "
       ]
      }
     ],
     "prompt_number": 4
    },
    {
     "cell_type": "code",
     "collapsed": false,
     "input": [
      "# compute the matrix representation of the Hamiltonian.\n",
      "H3_mat = represent(H3)\n",
      "H3_mat"
     ],
     "language": "python",
     "metadata": {},
     "outputs": [
      {
       "latex": [
        "$$\\left[\\begin{matrix}\\frac{\\alpha}{4} + \\frac{\\beta}{2} & 0 & 0 & 0 & 0 & 0 & 0 & 0\\\\0 & \\frac{\\alpha}{4} - \\frac{\\beta}{2} & \\frac{\\beta}{2} & 0 & \\frac{\\beta}{2} & 0 & 0 & 0\\\\0 & \\frac{\\beta}{2} & - \\frac{\\alpha}{4} & 0 & \\frac{\\alpha}{2} & 0 & 0 & 0\\\\0 & 0 & 0 & - \\frac{\\alpha}{4} & 0 & \\frac{\\alpha}{2} & \\frac{\\beta}{2} & 0\\\\0 & \\frac{\\beta}{2} & \\frac{\\alpha}{2} & 0 & - \\frac{\\alpha}{4} & 0 & 0 & 0\\\\0 & 0 & 0 & \\frac{\\alpha}{2} & 0 & - \\frac{\\alpha}{4} & \\frac{\\beta}{2} & 0\\\\0 & 0 & 0 & \\frac{\\beta}{2} & 0 & \\frac{\\beta}{2} & \\frac{\\alpha}{4} - \\frac{\\beta}{2} & 0\\\\0 & 0 & 0 & 0 & 0 & 0 & 0 & \\frac{\\alpha}{4} + \\frac{\\beta}{2}\\end{matrix}\\right]$$"
       ],
       "metadata": {},
       "output_type": "pyout",
       "prompt_number": 5,
       "text": [
        "\u23a1\u03b1   \u03b2                                         \u23a4\n",
        "\u23a2\u2500 + \u2500    0     0    0    0    0     0      0  \u23a5\n",
        "\u23a24   2                                         \u23a5\n",
        "\u23a2                                              \u23a5\n",
        "\u23a2       \u03b1   \u03b2   \u03b2         \u03b2                    \u23a5\n",
        "\u23a2  0    \u2500 - \u2500   \u2500    0    \u2500    0     0      0  \u23a5\n",
        "\u23a2       4   2   2         2                    \u23a5\n",
        "\u23a2                                              \u23a5\n",
        "\u23a2         \u03b2    -\u03b1         \u03b1                    \u23a5\n",
        "\u23a2  0      \u2500    \u2500\u2500\u2500   0    \u2500    0     0      0  \u23a5\n",
        "\u23a2         2     4         2                    \u23a5\n",
        "\u23a2                                              \u23a5\n",
        "\u23a2                   -\u03b1         \u03b1     \u03b2         \u23a5\n",
        "\u23a2  0      0     0   \u2500\u2500\u2500   0    \u2500     \u2500      0  \u23a5\n",
        "\u23a2                    4         2     2         \u23a5\n",
        "\u23a2                                              \u23a5\n",
        "\u23a2         \u03b2     \u03b1        -\u03b1                    \u23a5\n",
        "\u23a2  0      \u2500     \u2500    0   \u2500\u2500\u2500   0     0      0  \u23a5\n",
        "\u23a2         2     2         4                    \u23a5\n",
        "\u23a2                                              \u23a5\n",
        "\u23a2                    \u03b1        -\u03b1     \u03b2         \u23a5\n",
        "\u23a2  0      0     0    \u2500    0   \u2500\u2500\u2500    \u2500      0  \u23a5\n",
        "\u23a2                    2         4     2         \u23a5\n",
        "\u23a2                                              \u23a5\n",
        "\u23a2                    \u03b2         \u03b2   \u03b1   \u03b2       \u23a5\n",
        "\u23a2  0      0     0    \u2500    0    \u2500   \u2500 - \u2500    0  \u23a5\n",
        "\u23a2                    2         2   4   2       \u23a5\n",
        "\u23a2                                              \u23a5\n",
        "\u23a2                                         \u03b1   \u03b2\u23a5\n",
        "\u23a2  0      0     0    0    0    0     0    \u2500 + \u2500\u23a5\n",
        "\u23a3                                         4   2\u23a6"
       ]
      }
     ],
     "prompt_number": 5
    },
    {
     "cell_type": "code",
     "collapsed": false,
     "input": [
      "# Diagonalize the hamiltonian to get the energies.\n",
      "U3, D3 = H3_mat.diagonalize()\n",
      "D3"
     ],
     "language": "python",
     "metadata": {},
     "outputs": [
      {
       "latex": [
        "$$\\left[\\begin{matrix}- \\frac{3 \\alpha}{4} & 0 & 0 & 0 & 0 & 0 & 0 & 0\\\\0 & - \\frac{3 \\alpha}{4} & 0 & 0 & 0 & 0 & 0 & 0\\\\0 & 0 & \\frac{\\alpha}{4} - \\beta & 0 & 0 & 0 & 0 & 0\\\\0 & 0 & 0 & \\frac{\\alpha}{4} - \\beta & 0 & 0 & 0 & 0\\\\0 & 0 & 0 & 0 & \\frac{\\alpha}{4} + \\frac{\\beta}{2} & 0 & 0 & 0\\\\0 & 0 & 0 & 0 & 0 & \\frac{\\alpha}{4} + \\frac{\\beta}{2} & 0 & 0\\\\0 & 0 & 0 & 0 & 0 & 0 & \\frac{\\alpha}{4} + \\frac{\\beta}{2} & 0\\\\0 & 0 & 0 & 0 & 0 & 0 & 0 & \\frac{\\alpha}{4} + \\frac{\\beta}{2}\\end{matrix}\\right]$$"
       ],
       "metadata": {},
       "output_type": "pyout",
       "prompt_number": 6,
       "text": [
        "\u23a1-3\u22c5\u03b1                                                  \u23a4\n",
        "\u23a2\u2500\u2500\u2500\u2500\u2500    0      0      0      0      0      0      0  \u23a5\n",
        "\u23a2  4                                                   \u23a5\n",
        "\u23a2                                                      \u23a5\n",
        "\u23a2       -3\u22c5\u03b1                                           \u23a5\n",
        "\u23a2  0    \u2500\u2500\u2500\u2500\u2500    0      0      0      0      0      0  \u23a5\n",
        "\u23a2         4                                            \u23a5\n",
        "\u23a2                                                      \u23a5\n",
        "\u23a2              \u03b1                                       \u23a5\n",
        "\u23a2  0      0    \u2500 - \u03b2    0      0      0      0      0  \u23a5\n",
        "\u23a2              4                                       \u23a5\n",
        "\u23a2                                                      \u23a5\n",
        "\u23a2                     \u03b1                                \u23a5\n",
        "\u23a2  0      0      0    \u2500 - \u03b2    0      0      0      0  \u23a5\n",
        "\u23a2                     4                                \u23a5\n",
        "\u23a2                                                      \u23a5\n",
        "\u23a2                            \u03b1   \u03b2                     \u23a5\n",
        "\u23a2  0      0      0      0    \u2500 + \u2500    0      0      0  \u23a5\n",
        "\u23a2                            4   2                     \u23a5\n",
        "\u23a2                                                      \u23a5\n",
        "\u23a2                                   \u03b1   \u03b2              \u23a5\n",
        "\u23a2  0      0      0      0      0    \u2500 + \u2500    0      0  \u23a5\n",
        "\u23a2                                   4   2              \u23a5\n",
        "\u23a2                                                      \u23a5\n",
        "\u23a2                                          \u03b1   \u03b2       \u23a5\n",
        "\u23a2  0      0      0      0      0      0    \u2500 + \u2500    0  \u23a5\n",
        "\u23a2                                          4   2       \u23a5\n",
        "\u23a2                                                      \u23a5\n",
        "\u23a2                                                 \u03b1   \u03b2\u23a5\n",
        "\u23a2  0      0      0      0      0      0      0    \u2500 + \u2500\u23a5\n",
        "\u23a3                                                 4   2\u23a6"
       ]
      }
     ],
     "prompt_number": 6
    },
    {
     "cell_type": "markdown",
     "metadata": {},
     "source": [
      "# 4"
     ]
    },
    {
     "cell_type": "code",
     "collapsed": false,
     "input": [
      "# To check my algebra try both forms of the hamiltonian. The given one, and the derived from it by hand.\n",
      "H1 = (-a * 4 / hbar**2) * (TensorProduct(Jx, Jx) + TensorProduct(Jy,Jy))\n",
      "H1_pm = (-2 * a / hbar**2) * (TensorProduct(Jplus, Jminus) + TensorProduct(Jminus, Jplus))"
     ],
     "language": "python",
     "metadata": {},
     "outputs": [],
     "prompt_number": 7
    },
    {
     "cell_type": "code",
     "collapsed": false,
     "input": [
      "# With the given hamiltonian we get:\n",
      "represent(H1)"
     ],
     "language": "python",
     "metadata": {},
     "outputs": [
      {
       "latex": [
        "$$\\left[\\begin{matrix}0 & 0 & 0 & 0\\\\0 & 0 & - 2 \\alpha & 0\\\\0 & - 2 \\alpha & 0 & 0\\\\0 & 0 & 0 & 0\\end{matrix}\\right]$$"
       ],
       "metadata": {},
       "output_type": "pyout",
       "prompt_number": 8,
       "text": [
        "\u23a10   0     0    0\u23a4\n",
        "\u23a2                \u23a5\n",
        "\u23a20   0    -2\u22c5\u03b1  0\u23a5\n",
        "\u23a2                \u23a5\n",
        "\u23a20  -2\u22c5\u03b1   0    0\u23a5\n",
        "\u23a2                \u23a5\n",
        "\u23a30   0     0    0\u23a6"
       ]
      }
     ],
     "prompt_number": 8
    },
    {
     "cell_type": "code",
     "collapsed": false,
     "input": [
      "# With the derived Hamiltonian we get:\n",
      "hmat = represent(H1_pm)\n",
      "hmat"
     ],
     "language": "python",
     "metadata": {},
     "outputs": [
      {
       "latex": [
        "$$\\left[\\begin{matrix}0 & 0 & 0 & 0\\\\0 & 0 & - 2 \\alpha & 0\\\\0 & - 2 \\alpha & 0 & 0\\\\0 & 0 & 0 & 0\\end{matrix}\\right]$$"
       ],
       "metadata": {},
       "output_type": "pyout",
       "prompt_number": 9,
       "text": [
        "\u23a10   0     0    0\u23a4\n",
        "\u23a2                \u23a5\n",
        "\u23a20   0    -2\u22c5\u03b1  0\u23a5\n",
        "\u23a2                \u23a5\n",
        "\u23a20  -2\u22c5\u03b1   0    0\u23a5\n",
        "\u23a2                \u23a5\n",
        "\u23a30   0     0    0\u23a6"
       ]
      }
     ],
     "prompt_number": 9
    },
    {
     "cell_type": "code",
     "collapsed": false,
     "input": [
      "# Both are the same, so diagonalize it for the energies.\n",
      "U, D = hmat.diagonalize()\n",
      "D"
     ],
     "language": "python",
     "metadata": {},
     "outputs": [
      {
       "latex": [
        "$$\\left[\\begin{matrix}0 & 0 & 0 & 0\\\\0 & 0 & 0 & 0\\\\0 & 0 & - 2 \\alpha & 0\\\\0 & 0 & 0 & 2 \\alpha\\end{matrix}\\right]$$"
       ],
       "metadata": {},
       "output_type": "pyout",
       "prompt_number": 16,
       "text": [
        "\u23a10  0   0     0 \u23a4\n",
        "\u23a2               \u23a5\n",
        "\u23a20  0   0     0 \u23a5\n",
        "\u23a2               \u23a5\n",
        "\u23a20  0  -2\u22c5\u03b1   0 \u23a5\n",
        "\u23a2               \u23a5\n",
        "\u23a30  0   0    2\u22c5\u03b1\u23a6"
       ]
      }
     ],
     "prompt_number": 16
    },
    {
     "cell_type": "code",
     "collapsed": false,
     "input": [
      "# Adding the magnetic field term, I use `a` and `b` as arbitrary coefficients.\n",
      "HB = H1 + b * TensorProduct(Jz, Jz) * (4/hbar**2)\n",
      "hb_mat = represent(HB)\n",
      "hb_mat"
     ],
     "language": "python",
     "metadata": {},
     "outputs": [
      {
       "latex": [
        "$$\\left[\\begin{matrix}\\beta & 0 & 0 & 0\\\\0 & - \\beta & - 2 \\alpha & 0\\\\0 & - 2 \\alpha & - \\beta & 0\\\\0 & 0 & 0 & \\beta\\end{matrix}\\right]$$"
       ],
       "metadata": {},
       "output_type": "pyout",
       "prompt_number": 15,
       "text": [
        "\u23a1\u03b2   0     0    0\u23a4\n",
        "\u23a2                \u23a5\n",
        "\u23a20   -\u03b2   -2\u22c5\u03b1  0\u23a5\n",
        "\u23a2                \u23a5\n",
        "\u23a20  -2\u22c5\u03b1   -\u03b2   0\u23a5\n",
        "\u23a2                \u23a5\n",
        "\u23a30   0     0    \u03b2\u23a6"
       ]
      }
     ],
     "prompt_number": 15
    },
    {
     "cell_type": "code",
     "collapsed": false,
     "input": [
      "# and  the new energy levels:\n",
      "Ub, Db = hb_mat.diagonalize()\n",
      "Db"
     ],
     "language": "python",
     "metadata": {},
     "outputs": [
      {
       "latex": [
        "$$\\left[\\begin{matrix}\\beta & 0 & 0 & 0\\\\0 & \\beta & 0 & 0\\\\0 & 0 & - 2 \\alpha - \\beta & 0\\\\0 & 0 & 0 & 2 \\alpha - \\beta\\end{matrix}\\right]$$"
       ],
       "metadata": {},
       "output_type": "pyout",
       "prompt_number": 14,
       "text": [
        "\u23a1\u03b2  0     0         0   \u23a4\n",
        "\u23a2                       \u23a5\n",
        "\u23a20  \u03b2     0         0   \u23a5\n",
        "\u23a2                       \u23a5\n",
        "\u23a20  0  -2\u22c5\u03b1 - \u03b2     0   \u23a5\n",
        "\u23a2                       \u23a5\n",
        "\u23a30  0     0      2\u22c5\u03b1 - \u03b2\u23a6"
       ]
      }
     ],
     "prompt_number": 14
    }
   ],
   "metadata": {}
  }
 ]
}